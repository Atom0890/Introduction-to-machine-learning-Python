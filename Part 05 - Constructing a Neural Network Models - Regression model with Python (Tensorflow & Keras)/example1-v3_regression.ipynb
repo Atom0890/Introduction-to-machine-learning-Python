{
 "cells": [
  {
   "cell_type": "markdown",
   "metadata": {},
   "source": [
    "# Deep Learning Tutorial.\n",
    "## Regression models.\n",
    "### 1. Construct a multi-layer neural network model.\n",
    "### 2. Tune the hyper-parameters for training a model.\n",
    "### 3. Train a model on CPU or GPU.\n",
    "### 4. Evaluate a model.\n",
    "### 5. Save and load a model.\n",
    "\n",
    "### Notes:\n",
    "###  All of the code in this tutorial implemented in Tensorflow 2.1.0."
   ]
  },
  {
   "cell_type": "code",
   "execution_count": 1,
   "metadata": {},
   "outputs": [],
   "source": []
  },
  {
   "cell_type": "markdown",
   "metadata": {},
   "source": [
    "# boston_housing\n",
    "## https://www.tensorflow.org/api_docs/python/tf/keras/datasets/boston_housing\n",
    "## http://lib.stat.cmu.edu/datasets/boston\n",
    "## Samples contain 13 attributes of houses at different locations around the Boston suburbs in the late 1970s. Targets are the median values of the houses at a location  (in k\\$).\n",
    "## Variables in order\n",
    "### 1.  CRIM     per capita crime rate by town\n",
    "### 2.  ZN       proportion of residential land zoned for lots over 25,000 sq.ft.\n",
    "### 3.  INDUS    proportion of non-retail business acres per town\n",
    "### 4. CHAS     Charles River dummy variable (= 1 if tract bounds river; 0 otherwise)\n",
    "### 5.  NOX      nitric oxides concentration (parts per 10 million)\n",
    "### 6.  RM       average number of rooms per dwelling\n",
    "### 7.  AGE      proportion of owner-occupied units built prior to 1940\n",
    "### 8.  DIS      weighted distances to five Boston employment centres\n",
    "### 9.  RAD      index of accessibility to radial highways\n",
    "### 10.  TAX      full-value property-tax rate per \\$10,000\n",
    "### 11.  PTRATIO  pupil-teacher ratio by town\n",
    "### 12.  B        1000(Bk - 0.63)^2 where Bk is the proportion of blacks by town\n",
    "### 13.  LSTAT    % lower status of the population\n",
    "### 14. (Label) MEDV     Median value of owner-occupied homes in $1000's\n",
    "\n"
   ]
  },
  {
   "cell_type": "markdown",
   "metadata": {},
   "source": [
    "# Install the following:\n",
    "## pip install tensorflow\n",
    "## pip install git+https://github.com/tensorflow/docs\n",
    "\n",
    "\n"
   ]
  },
  {
   "cell_type": "code",
   "execution_count": 1,
   "metadata": {},
   "outputs": [
    {
     "name": "stdout",
     "output_type": "stream",
     "text": [
      "Tensorflow version: 2.3.0\n"
     ]
    }
   ],
   "source": [
    "# for the operating system operations e.g., creating a folder.\n",
    "import os\n",
    "\n",
    "# Tensorflow and Keras are two packages for creating neural network models.\n",
    "import tensorflow as tf\n",
    "from tensorflow import keras\n",
    "\n",
    "from sklearn.model_selection import train_test_split\n",
    "\n",
    "# Print tensorfow (TF) version. Make sure you have at least tensorflow 2.1.0\n",
    "print(f\"Tensorflow version: {tf.version.VERSION}\")"
   ]
  },
  {
   "cell_type": "code",
   "execution_count": 2,
   "metadata": {},
   "outputs": [],
   "source": [
    "# import the dataset.\n",
    "# from tensorflow.keras.datasets import boston_housing\n",
    "\n",
    "# import NN layers and other componenets.\n",
    "from tensorflow.keras.models import Sequential\n",
    "from tensorflow.keras.layers import Activation, Dense, BatchNormalization, Dropout\n",
    "from tensorflow.keras import optimizers"
   ]
  },
  {
   "cell_type": "code",
   "execution_count": 10,
   "metadata": {},
   "outputs": [],
   "source": [
    "# Tensorflow untils packages.\n",
    "import tensorflow_docs as tfdocs\n",
    "import tensorflow_docs.plots\n",
    "import tensorflow_docs.modeling"
   ]
  },
  {
   "cell_type": "code",
   "execution_count": 11,
   "metadata": {},
   "outputs": [],
   "source": [
    "import pathlib # for processing a path e.g., c:\\documents\\files\\test_ds.csv\n",
    "import matplotlib.pyplot as plt # for plotting data and creating different charts.\n",
    "import numpy as np # for math and arrays\n",
    "import pandas as pd # data from for the data.\n",
    "import seaborn as sns # for plotting."
   ]
  },
  {
   "cell_type": "code",
   "execution_count": 12,
   "metadata": {},
   "outputs": [],
   "source": [
    "tf.random.set_seed(13) # to make sure the experiment is reproducible.\n",
    "tf.debugging.set_log_device_placement(False)\n",
    "\n",
    "\n",
    "# uncomment the following line to use a GPU (Graphical Processing Unit) \n",
    "#if you have it available at your machine. This unit will make your code run faster.\n",
    "# tf.config.experimental.list_physical_devices('GPU')  "
   ]
  },
  {
   "cell_type": "code",
   "execution_count": 13,
   "metadata": {},
   "outputs": [],
   "source": [
    "# (X_train, y_train), (X_test, y_test) = boston_housing.load_data()\n",
    "# Downloaded the data from https://github.com/selva86/datasets/edit/master/BostonHousing.csv\n",
    "all_ds = pd.read_csv('BostonHousing.csv')"
   ]
  },
  {
   "cell_type": "code",
   "execution_count": 62,
   "metadata": {},
   "outputs": [
    {
     "data": {
      "text/html": [
       "<div>\n",
       "<style scoped>\n",
       "    .dataframe tbody tr th:only-of-type {\n",
       "        vertical-align: middle;\n",
       "    }\n",
       "\n",
       "    .dataframe tbody tr th {\n",
       "        vertical-align: top;\n",
       "    }\n",
       "\n",
       "    .dataframe thead th {\n",
       "        text-align: right;\n",
       "    }\n",
       "</style>\n",
       "<table border=\"1\" class=\"dataframe\">\n",
       "  <thead>\n",
       "    <tr style=\"text-align: right;\">\n",
       "      <th></th>\n",
       "      <th>crim</th>\n",
       "      <th>zn</th>\n",
       "      <th>indus</th>\n",
       "      <th>chas</th>\n",
       "      <th>nox</th>\n",
       "      <th>rm</th>\n",
       "      <th>age</th>\n",
       "      <th>dis</th>\n",
       "      <th>rad</th>\n",
       "      <th>tax</th>\n",
       "      <th>ptratio</th>\n",
       "      <th>b</th>\n",
       "      <th>lstat</th>\n",
       "      <th>medv</th>\n",
       "    </tr>\n",
       "  </thead>\n",
       "  <tbody>\n",
       "    <tr>\n",
       "      <th>253</th>\n",
       "      <td>0.36894</td>\n",
       "      <td>22.0</td>\n",
       "      <td>5.86</td>\n",
       "      <td>0</td>\n",
       "      <td>0.431</td>\n",
       "      <td>8.259</td>\n",
       "      <td>8.4</td>\n",
       "      <td>8.9067</td>\n",
       "      <td>7</td>\n",
       "      <td>330</td>\n",
       "      <td>19.1</td>\n",
       "      <td>396.90</td>\n",
       "      <td>3.54</td>\n",
       "      <td>42.8</td>\n",
       "    </tr>\n",
       "    <tr>\n",
       "      <th>453</th>\n",
       "      <td>8.24809</td>\n",
       "      <td>0.0</td>\n",
       "      <td>18.10</td>\n",
       "      <td>0</td>\n",
       "      <td>0.713</td>\n",
       "      <td>7.393</td>\n",
       "      <td>99.3</td>\n",
       "      <td>2.4527</td>\n",
       "      <td>24</td>\n",
       "      <td>666</td>\n",
       "      <td>20.2</td>\n",
       "      <td>375.87</td>\n",
       "      <td>16.74</td>\n",
       "      <td>17.8</td>\n",
       "    </tr>\n",
       "    <tr>\n",
       "      <th>1</th>\n",
       "      <td>0.02731</td>\n",
       "      <td>0.0</td>\n",
       "      <td>7.07</td>\n",
       "      <td>0</td>\n",
       "      <td>0.469</td>\n",
       "      <td>6.421</td>\n",
       "      <td>78.9</td>\n",
       "      <td>4.9671</td>\n",
       "      <td>2</td>\n",
       "      <td>242</td>\n",
       "      <td>17.8</td>\n",
       "      <td>396.90</td>\n",
       "      <td>9.14</td>\n",
       "      <td>21.6</td>\n",
       "    </tr>\n",
       "    <tr>\n",
       "      <th>187</th>\n",
       "      <td>0.07875</td>\n",
       "      <td>45.0</td>\n",
       "      <td>3.44</td>\n",
       "      <td>0</td>\n",
       "      <td>0.437</td>\n",
       "      <td>6.782</td>\n",
       "      <td>41.1</td>\n",
       "      <td>3.7886</td>\n",
       "      <td>5</td>\n",
       "      <td>398</td>\n",
       "      <td>15.2</td>\n",
       "      <td>393.87</td>\n",
       "      <td>6.68</td>\n",
       "      <td>32.0</td>\n",
       "    </tr>\n",
       "    <tr>\n",
       "      <th>114</th>\n",
       "      <td>0.14231</td>\n",
       "      <td>0.0</td>\n",
       "      <td>10.01</td>\n",
       "      <td>0</td>\n",
       "      <td>0.547</td>\n",
       "      <td>6.254</td>\n",
       "      <td>84.2</td>\n",
       "      <td>2.2565</td>\n",
       "      <td>6</td>\n",
       "      <td>432</td>\n",
       "      <td>17.8</td>\n",
       "      <td>388.74</td>\n",
       "      <td>10.45</td>\n",
       "      <td>18.5</td>\n",
       "    </tr>\n",
       "  </tbody>\n",
       "</table>\n",
       "</div>"
      ],
      "text/plain": [
       "        crim    zn  indus  chas    nox     rm   age     dis  rad  tax  \\\n",
       "253  0.36894  22.0   5.86     0  0.431  8.259   8.4  8.9067    7  330   \n",
       "453  8.24809   0.0  18.10     0  0.713  7.393  99.3  2.4527   24  666   \n",
       "1    0.02731   0.0   7.07     0  0.469  6.421  78.9  4.9671    2  242   \n",
       "187  0.07875  45.0   3.44     0  0.437  6.782  41.1  3.7886    5  398   \n",
       "114  0.14231   0.0  10.01     0  0.547  6.254  84.2  2.2565    6  432   \n",
       "\n",
       "     ptratio       b  lstat  medv  \n",
       "253     19.1  396.90   3.54  42.8  \n",
       "453     20.2  375.87  16.74  17.8  \n",
       "1       17.8  396.90   9.14  21.6  \n",
       "187     15.2  393.87   6.68  32.0  \n",
       "114     17.8  388.74  10.45  18.5  "
      ]
     },
     "execution_count": 62,
     "metadata": {},
     "output_type": "execute_result"
    }
   ],
   "source": [
    "all_ds.head()"
   ]
  },
  {
   "cell_type": "code",
   "execution_count": 15,
   "metadata": {},
   "outputs": [
    {
     "name": "stdout",
     "output_type": "stream",
     "text": [
      "Number of rows/examples and columns in the dataset: (506, 14)\n"
     ]
    }
   ],
   "source": [
    "print(f'Number of rows/examples and columns in the dataset: {all_ds.shape}')"
   ]
  },
  {
   "cell_type": "code",
   "execution_count": 16,
   "metadata": {},
   "outputs": [
    {
     "name": "stdout",
     "output_type": "stream",
     "text": [
      "<class 'pandas.core.frame.DataFrame'>\n",
      "RangeIndex: 506 entries, 0 to 505\n",
      "Data columns (total 14 columns):\n",
      " #   Column   Non-Null Count  Dtype  \n",
      "---  ------   --------------  -----  \n",
      " 0   crim     506 non-null    float64\n",
      " 1   zn       506 non-null    float64\n",
      " 2   indus    506 non-null    float64\n",
      " 3   chas     506 non-null    int64  \n",
      " 4   nox      506 non-null    float64\n",
      " 5   rm       506 non-null    float64\n",
      " 6   age      506 non-null    float64\n",
      " 7   dis      506 non-null    float64\n",
      " 8   rad      506 non-null    int64  \n",
      " 9   tax      506 non-null    int64  \n",
      " 10  ptratio  506 non-null    float64\n",
      " 11  b        506 non-null    float64\n",
      " 12  lstat    506 non-null    float64\n",
      " 13  medv     506 non-null    float64\n",
      "dtypes: float64(11), int64(3)\n",
      "memory usage: 55.5 KB\n"
     ]
    }
   ],
   "source": [
    "# Summary of information on the dataset.\n",
    "all_ds.info()"
   ]
  },
  {
   "cell_type": "markdown",
   "metadata": {},
   "source": [
    "# Cleaning the data."
   ]
  },
  {
   "cell_type": "code",
   "execution_count": 17,
   "metadata": {},
   "outputs": [
    {
     "name": "stdout",
     "output_type": "stream",
     "text": [
      "Display NA values in each columns: \n"
     ]
    },
    {
     "data": {
      "text/plain": [
       "crim       0\n",
       "zn         0\n",
       "indus      0\n",
       "chas       0\n",
       "nox        0\n",
       "rm         0\n",
       "age        0\n",
       "dis        0\n",
       "rad        0\n",
       "tax        0\n",
       "ptratio    0\n",
       "b          0\n",
       "lstat      0\n",
       "medv       0\n",
       "dtype: int64"
      ]
     },
     "execution_count": 17,
     "metadata": {},
     "output_type": "execute_result"
    }
   ],
   "source": [
    "print(\"Display NA values in each columns: \")\n",
    "all_ds.isna().sum(axis=0)"
   ]
  },
  {
   "cell_type": "code",
   "execution_count": 18,
   "metadata": {},
   "outputs": [
    {
     "name": "stdout",
     "output_type": "stream",
     "text": [
      "Display NA values in each row: \n"
     ]
    },
    {
     "data": {
      "text/plain": [
       "0      0\n",
       "1      0\n",
       "2      0\n",
       "3      0\n",
       "4      0\n",
       "      ..\n",
       "501    0\n",
       "502    0\n",
       "503    0\n",
       "504    0\n",
       "505    0\n",
       "Length: 506, dtype: int64"
      ]
     },
     "execution_count": 18,
     "metadata": {},
     "output_type": "execute_result"
    }
   ],
   "source": [
    "print(\"Display NA values in each row: \")\n",
    "all_ds.isna().sum(axis=1)"
   ]
  },
  {
   "cell_type": "code",
   "execution_count": 19,
   "metadata": {},
   "outputs": [
    {
     "name": "stdout",
     "output_type": "stream",
     "text": [
      "Display NULL values in each columns: \n"
     ]
    },
    {
     "data": {
      "text/plain": [
       "crim       0\n",
       "zn         0\n",
       "indus      0\n",
       "chas       0\n",
       "nox        0\n",
       "rm         0\n",
       "age        0\n",
       "dis        0\n",
       "rad        0\n",
       "tax        0\n",
       "ptratio    0\n",
       "b          0\n",
       "lstat      0\n",
       "medv       0\n",
       "dtype: int64"
      ]
     },
     "execution_count": 19,
     "metadata": {},
     "output_type": "execute_result"
    }
   ],
   "source": [
    "print(\"Display NULL values in each columns: \")\n",
    "all_ds.isnull().sum()"
   ]
  },
  {
   "cell_type": "code",
   "execution_count": 20,
   "metadata": {},
   "outputs": [
    {
     "name": "stdout",
     "output_type": "stream",
     "text": [
      "Display NULL values in each row: \n"
     ]
    },
    {
     "data": {
      "text/plain": [
       "0      0\n",
       "1      0\n",
       "2      0\n",
       "3      0\n",
       "4      0\n",
       "      ..\n",
       "501    0\n",
       "502    0\n",
       "503    0\n",
       "504    0\n",
       "505    0\n",
       "Length: 506, dtype: int64"
      ]
     },
     "execution_count": 20,
     "metadata": {},
     "output_type": "execute_result"
    }
   ],
   "source": [
    "print(\"Display NULL values in each row: \")\n",
    "all_ds.isnull().sum(1)"
   ]
  },
  {
   "cell_type": "code",
   "execution_count": 21,
   "metadata": {},
   "outputs": [],
   "source": [
    "# Remove the rows with NA values.\n",
    "all_ds = all_ds.dropna()\n",
    "\n",
    "# You can also use the following line to fill the NA with Zeros.\n",
    "# all_ds = all_ds.fillna(0)\n",
    "# all_ds = all_ds.fillna(mean_of_column)\n",
    "\n"
   ]
  },
  {
   "cell_type": "code",
   "execution_count": 22,
   "metadata": {},
   "outputs": [
    {
     "data": {
      "text/plain": [
       "(20, 14)"
      ]
     },
     "execution_count": 22,
     "metadata": {},
     "output_type": "execute_result"
    }
   ],
   "source": [
    "# slice the data set and keep last n rows of the dataset.  E.g., you want to save the last 20 rows from the dataset into a new dataset.\n",
    "n = 20\n",
    "temp_ds = all_ds[:n]\n",
    "temp_ds.shape"
   ]
  },
  {
   "cell_type": "markdown",
   "metadata": {},
   "source": [
    "# Sample the dataset randomly and return fraction (e.g., frac=50% will return 50% of the data) from the dataset."
   ]
  },
  {
   "cell_type": "code",
   "execution_count": 23,
   "metadata": {},
   "outputs": [
    {
     "data": {
      "text/plain": [
       "(455, 14)"
      ]
     },
     "execution_count": 23,
     "metadata": {},
     "output_type": "execute_result"
    }
   ],
   "source": [
    "# all_ds[10:]\n",
    "# all_ds.sample(frac=1) # this will shuffle all of the dataset and randomly re-organize the rows.\n",
    "\n",
    "all_ds = all_ds.sample(frac=1) # This will randomly shuffle the rows to make sure the data is not sorted. (if the data is sorted then we may end up with test dataset from one or two classes only)\n",
    "all_ds_90pct = all_ds.sample(frac=0.9) # randomly sample the dataset and keep 90% of the rows.\n",
    "all_ds_90pct.shape"
   ]
  },
  {
   "cell_type": "markdown",
   "metadata": {},
   "source": [
    "# Split the data into train/test splits."
   ]
  },
  {
   "cell_type": "code",
   "execution_count": 24,
   "metadata": {},
   "outputs": [],
   "source": [
    "# THis is an alternative method to split the data and replace train_test_split.\n",
    "# train_dataset = all_ds_90pct.sample(frac=0.6) # This will select 80\n",
    "# test_dataset = all_ds_90pct.drop(train_dataset.index)"
   ]
  },
  {
   "cell_type": "code",
   "execution_count": 25,
   "metadata": {},
   "outputs": [
    {
     "name": "stdout",
     "output_type": "stream",
     "text": [
      "(273, 14)\n",
      "(182, 14)\n"
     ]
    }
   ],
   "source": [
    "# Split the data into 60% train and 40% test (later will divide the test to test and validate.)\n",
    "train_dataset, temp_test_dataset =  train_test_split(all_ds_90pct, test_size=0.4)\n",
    "\n",
    "print( train_dataset.shape )\n",
    "print( temp_test_dataset.shape )"
   ]
  },
  {
   "cell_type": "code",
   "execution_count": 26,
   "metadata": {},
   "outputs": [
    {
     "name": "stdout",
     "output_type": "stream",
     "text": [
      "(91, 14)\n",
      "(91, 14)\n"
     ]
    }
   ],
   "source": [
    "# Split the test_dataset dataframe to 50% test and 50% validation. [this will divide the dataset into 60% train, 20% validate, and 20% test]\n",
    "test_dataset, valid_dataset =  train_test_split(temp_test_dataset, test_size=0.5)\n",
    "print( test_dataset.shape )\n",
    "print( valid_dataset.shape )"
   ]
  },
  {
   "cell_type": "code",
   "execution_count": 27,
   "metadata": {},
   "outputs": [
    {
     "name": "stdout",
     "output_type": "stream",
     "text": [
      "Display the datatype of the test_dataset: <class 'pandas.core.frame.DataFrame'>\n",
      " Trai dataset       : (273, 14)\n",
      " Test dataset       : (91, 14)\n",
      " Validation dataset : (91, 14)\n"
     ]
    }
   ],
   "source": [
    "print(f\"Display the datatype of the test_dataset: {type(test_dataset)}\")\n",
    "print(f\" Trai dataset       : {train_dataset.shape}\")\n",
    "print(f\" Test dataset       : {test_dataset.shape}\")\n",
    "print(f\" Validation dataset : {valid_dataset.shape}\")"
   ]
  },
  {
   "cell_type": "code",
   "execution_count": 28,
   "metadata": {},
   "outputs": [
    {
     "data": {
      "text/plain": [
       "<seaborn.axisgrid.PairGrid at 0x139f14bd0>"
      ]
     },
     "execution_count": 28,
     "metadata": {},
     "output_type": "execute_result"
    },
    {
     "data": {
      "image/png": "[encoded data removed]",
      "text/plain": [
       "<Figure size 2340x2340 with 182 Axes>"
      ]
     },
     "metadata": {
      "needs_background": "light"
     },
     "output_type": "display_data"
    }
   ],
   "source": [
    "# Plot the relationship between each two variables to spot anything incorrect.\n",
    "train_stats = train_dataset.describe()\n",
    "train_stats.pop(\"medv\")\n",
    "sns.pairplot(train_stats[train_stats.columns], diag_kind=\"kde\") # or diag_kind='reg'\n"
   ]
  },
  {
   "cell_type": "code",
   "execution_count": 29,
   "metadata": {},
   "outputs": [
    {
     "data": {
      "text/html": [
       "<div>\n",
       "<style scoped>\n",
       "    .dataframe tbody tr th:only-of-type {\n",
       "        vertical-align: middle;\n",
       "    }\n",
       "\n",
       "    .dataframe tbody tr th {\n",
       "        vertical-align: top;\n",
       "    }\n",
       "\n",
       "    .dataframe thead th {\n",
       "        text-align: right;\n",
       "    }\n",
       "</style>\n",
       "<table border=\"1\" class=\"dataframe\">\n",
       "  <thead>\n",
       "    <tr style=\"text-align: right;\">\n",
       "      <th></th>\n",
       "      <th>count</th>\n",
       "      <th>mean</th>\n",
       "      <th>std</th>\n",
       "      <th>min</th>\n",
       "      <th>25%</th>\n",
       "      <th>50%</th>\n",
       "      <th>75%</th>\n",
       "      <th>max</th>\n",
       "    </tr>\n",
       "  </thead>\n",
       "  <tbody>\n",
       "    <tr>\n",
       "      <th>crim</th>\n",
       "      <td>273.0</td>\n",
       "      <td>3.876580</td>\n",
       "      <td>9.224158</td>\n",
       "      <td>0.00632</td>\n",
       "      <td>0.08873</td>\n",
       "      <td>0.2909</td>\n",
       "      <td>3.53501</td>\n",
       "      <td>73.5341</td>\n",
       "    </tr>\n",
       "    <tr>\n",
       "      <th>zn</th>\n",
       "      <td>273.0</td>\n",
       "      <td>9.075092</td>\n",
       "      <td>20.544313</td>\n",
       "      <td>0.00000</td>\n",
       "      <td>0.00000</td>\n",
       "      <td>0.0000</td>\n",
       "      <td>0.00000</td>\n",
       "      <td>95.0000</td>\n",
       "    </tr>\n",
       "    <tr>\n",
       "      <th>indus</th>\n",
       "      <td>273.0</td>\n",
       "      <td>11.439084</td>\n",
       "      <td>6.740505</td>\n",
       "      <td>0.46000</td>\n",
       "      <td>5.86000</td>\n",
       "      <td>9.9000</td>\n",
       "      <td>18.10000</td>\n",
       "      <td>27.7400</td>\n",
       "    </tr>\n",
       "    <tr>\n",
       "      <th>chas</th>\n",
       "      <td>273.0</td>\n",
       "      <td>0.058608</td>\n",
       "      <td>0.235321</td>\n",
       "      <td>0.00000</td>\n",
       "      <td>0.00000</td>\n",
       "      <td>0.0000</td>\n",
       "      <td>0.00000</td>\n",
       "      <td>1.0000</td>\n",
       "    </tr>\n",
       "    <tr>\n",
       "      <th>nox</th>\n",
       "      <td>273.0</td>\n",
       "      <td>0.558281</td>\n",
       "      <td>0.115383</td>\n",
       "      <td>0.38500</td>\n",
       "      <td>0.45800</td>\n",
       "      <td>0.5380</td>\n",
       "      <td>0.62400</td>\n",
       "      <td>0.8710</td>\n",
       "    </tr>\n",
       "    <tr>\n",
       "      <th>rm</th>\n",
       "      <td>273.0</td>\n",
       "      <td>6.205674</td>\n",
       "      <td>0.651633</td>\n",
       "      <td>4.13800</td>\n",
       "      <td>5.86900</td>\n",
       "      <td>6.1440</td>\n",
       "      <td>6.49500</td>\n",
       "      <td>8.2970</td>\n",
       "    </tr>\n",
       "    <tr>\n",
       "      <th>age</th>\n",
       "      <td>273.0</td>\n",
       "      <td>69.339927</td>\n",
       "      <td>27.601836</td>\n",
       "      <td>2.90000</td>\n",
       "      <td>46.70000</td>\n",
       "      <td>76.7000</td>\n",
       "      <td>94.10000</td>\n",
       "      <td>100.0000</td>\n",
       "    </tr>\n",
       "    <tr>\n",
       "      <th>dis</th>\n",
       "      <td>273.0</td>\n",
       "      <td>3.794550</td>\n",
       "      <td>2.112633</td>\n",
       "      <td>1.13700</td>\n",
       "      <td>2.07880</td>\n",
       "      <td>3.3175</td>\n",
       "      <td>5.10040</td>\n",
       "      <td>12.1265</td>\n",
       "    </tr>\n",
       "    <tr>\n",
       "      <th>rad</th>\n",
       "      <td>273.0</td>\n",
       "      <td>9.520147</td>\n",
       "      <td>8.627107</td>\n",
       "      <td>1.00000</td>\n",
       "      <td>4.00000</td>\n",
       "      <td>5.0000</td>\n",
       "      <td>24.00000</td>\n",
       "      <td>24.0000</td>\n",
       "    </tr>\n",
       "    <tr>\n",
       "      <th>tax</th>\n",
       "      <td>273.0</td>\n",
       "      <td>413.106227</td>\n",
       "      <td>164.922040</td>\n",
       "      <td>187.00000</td>\n",
       "      <td>287.00000</td>\n",
       "      <td>337.0000</td>\n",
       "      <td>666.00000</td>\n",
       "      <td>711.0000</td>\n",
       "    </tr>\n",
       "    <tr>\n",
       "      <th>ptratio</th>\n",
       "      <td>273.0</td>\n",
       "      <td>18.587179</td>\n",
       "      <td>2.185855</td>\n",
       "      <td>12.60000</td>\n",
       "      <td>17.40000</td>\n",
       "      <td>19.2000</td>\n",
       "      <td>20.20000</td>\n",
       "      <td>22.0000</td>\n",
       "    </tr>\n",
       "    <tr>\n",
       "      <th>b</th>\n",
       "      <td>273.0</td>\n",
       "      <td>354.957582</td>\n",
       "      <td>92.827743</td>\n",
       "      <td>0.32000</td>\n",
       "      <td>374.56000</td>\n",
       "      <td>390.7700</td>\n",
       "      <td>395.67000</td>\n",
       "      <td>396.9000</td>\n",
       "    </tr>\n",
       "    <tr>\n",
       "      <th>lstat</th>\n",
       "      <td>273.0</td>\n",
       "      <td>13.093626</td>\n",
       "      <td>7.086739</td>\n",
       "      <td>1.73000</td>\n",
       "      <td>7.79000</td>\n",
       "      <td>11.7400</td>\n",
       "      <td>17.09000</td>\n",
       "      <td>37.9700</td>\n",
       "    </tr>\n",
       "  </tbody>\n",
       "</table>\n",
       "</div>"
      ],
      "text/plain": [
       "         count        mean         std        min        25%       50%  \\\n",
       "crim     273.0    3.876580    9.224158    0.00632    0.08873    0.2909   \n",
       "zn       273.0    9.075092   20.544313    0.00000    0.00000    0.0000   \n",
       "indus    273.0   11.439084    6.740505    0.46000    5.86000    9.9000   \n",
       "chas     273.0    0.058608    0.235321    0.00000    0.00000    0.0000   \n",
       "nox      273.0    0.558281    0.115383    0.38500    0.45800    0.5380   \n",
       "rm       273.0    6.205674    0.651633    4.13800    5.86900    6.1440   \n",
       "age      273.0   69.339927   27.601836    2.90000   46.70000   76.7000   \n",
       "dis      273.0    3.794550    2.112633    1.13700    2.07880    3.3175   \n",
       "rad      273.0    9.520147    8.627107    1.00000    4.00000    5.0000   \n",
       "tax      273.0  413.106227  164.922040  187.00000  287.00000  337.0000   \n",
       "ptratio  273.0   18.587179    2.185855   12.60000   17.40000   19.2000   \n",
       "b        273.0  354.957582   92.827743    0.32000  374.56000  390.7700   \n",
       "lstat    273.0   13.093626    7.086739    1.73000    7.79000   11.7400   \n",
       "\n",
       "               75%       max  \n",
       "crim       3.53501   73.5341  \n",
       "zn         0.00000   95.0000  \n",
       "indus     18.10000   27.7400  \n",
       "chas       0.00000    1.0000  \n",
       "nox        0.62400    0.8710  \n",
       "rm         6.49500    8.2970  \n",
       "age       94.10000  100.0000  \n",
       "dis        5.10040   12.1265  \n",
       "rad       24.00000   24.0000  \n",
       "tax      666.00000  711.0000  \n",
       "ptratio   20.20000   22.0000  \n",
       "b        395.67000  396.9000  \n",
       "lstat     17.09000   37.9700  "
      ]
     },
     "execution_count": 29,
     "metadata": {},
     "output_type": "execute_result"
    }
   ],
   "source": [
    "# Statistics on the train dataset to make sure it is in a good shape. (you may display the same stat for test and validate)\n",
    "train_stats = train_dataset.describe()\n",
    "train_stats.pop(\"medv\")\n",
    "train_stats = train_stats.transpose()\n",
    "train_stats"
   ]
  },
  {
   "cell_type": "markdown",
   "metadata": {},
   "source": [
    "# The label is \"Median Value\" of the house. We will remove them from each dataset split (train, test, validate) and save them into new variables.\n",
    "## Note: we maintain the order of the labels and data from now on to make sure each example/row is associated with the right label."
   ]
  },
  {
   "cell_type": "code",
   "execution_count": 30,
   "metadata": {},
   "outputs": [],
   "source": [
    "\n",
    "train_labels = train_dataset.pop('medv')\n",
    "test_labels = test_dataset.pop('medv')\n",
    "valid_labels = valid_dataset.pop('medv')"
   ]
  },
  {
   "cell_type": "markdown",
   "metadata": {},
   "source": [
    "# Data Normalization/Scaling\n",
    "## Subtract the mean of the training data and divide by the standard deviation of the training data."
   ]
  },
  {
   "cell_type": "code",
   "execution_count": 31,
   "metadata": {},
   "outputs": [],
   "source": [
    "# define a function to normalize the data set.\n",
    "def norm(x):\n",
    "    return (x - train_stats['mean']) / train_stats['std']\n",
    "normed_train_data = norm(train_dataset)\n",
    "normed_test_data = norm(test_dataset)\n",
    "normed_valid_dataset = norm(valid_dataset)\n"
   ]
  },
  {
   "cell_type": "code",
   "execution_count": 32,
   "metadata": {},
   "outputs": [
    {
     "name": "stdout",
     "output_type": "stream",
     "text": [
      "Train/Test/Validate splits: \n",
      "Train    : (273, 13) \n",
      "Test     : (91, 13) \n",
      "Validate : (91, 13) \n",
      "Train/Test/Validate labels: \n",
      "Train Labels : (273,) \n",
      "Test Labels  : (91,) \n",
      "Test Labels  : (91,) \n"
     ]
    }
   ],
   "source": [
    "print(r'Train/Test/Validate splits: ')\n",
    "print(f'Train    : {normed_train_data.shape} ')\n",
    "print(f'Test     : {normed_test_data.shape} ')\n",
    "print(f'Validate : {normed_valid_dataset.shape} ')\n",
    "\n",
    "print(r'Train/Test/Validate labels: ')\n",
    "print(f'Train Labels : {train_labels.shape} ')\n",
    "print(f'Test Labels  : {test_labels.shape} ')\n",
    "print(f'Test Labels  : {valid_labels.shape} ')\n"
   ]
  },
  {
   "cell_type": "code",
   "execution_count": 33,
   "metadata": {},
   "outputs": [
    {
     "data": {
      "text/html": [
       "<div>\n",
       "<style scoped>\n",
       "    .dataframe tbody tr th:only-of-type {\n",
       "        vertical-align: middle;\n",
       "    }\n",
       "\n",
       "    .dataframe tbody tr th {\n",
       "        vertical-align: top;\n",
       "    }\n",
       "\n",
       "    .dataframe thead th {\n",
       "        text-align: right;\n",
       "    }\n",
       "</style>\n",
       "<table border=\"1\" class=\"dataframe\">\n",
       "  <thead>\n",
       "    <tr style=\"text-align: right;\">\n",
       "      <th></th>\n",
       "      <th>crim</th>\n",
       "      <th>zn</th>\n",
       "      <th>indus</th>\n",
       "      <th>chas</th>\n",
       "      <th>nox</th>\n",
       "      <th>rm</th>\n",
       "      <th>age</th>\n",
       "      <th>dis</th>\n",
       "      <th>rad</th>\n",
       "      <th>tax</th>\n",
       "      <th>ptratio</th>\n",
       "      <th>b</th>\n",
       "      <th>lstat</th>\n",
       "    </tr>\n",
       "  </thead>\n",
       "  <tbody>\n",
       "    <tr>\n",
       "      <th>360</th>\n",
       "      <td>0.072130</td>\n",
       "      <td>-0.441733</td>\n",
       "      <td>0.988192</td>\n",
       "      <td>-0.249056</td>\n",
       "      <td>1.834923</td>\n",
       "      <td>0.295145</td>\n",
       "      <td>0.676045</td>\n",
       "      <td>-0.604151</td>\n",
       "      <td>1.678413</td>\n",
       "      <td>1.533414</td>\n",
       "      <td>0.737844</td>\n",
       "      <td>0.211170</td>\n",
       "      <td>-0.748387</td>\n",
       "    </tr>\n",
       "    <tr>\n",
       "      <th>169</th>\n",
       "      <td>-0.154708</td>\n",
       "      <td>-0.441733</td>\n",
       "      <td>1.207761</td>\n",
       "      <td>-0.249056</td>\n",
       "      <td>0.404904</td>\n",
       "      <td>0.301283</td>\n",
       "      <td>0.936897</td>\n",
       "      <td>-0.725185</td>\n",
       "      <td>-0.523947</td>\n",
       "      <td>-0.061279</td>\n",
       "      <td>-1.778334</td>\n",
       "      <td>-0.268428</td>\n",
       "      <td>-0.250274</td>\n",
       "    </tr>\n",
       "    <tr>\n",
       "      <th>481</th>\n",
       "      <td>0.198566</td>\n",
       "      <td>-0.441733</td>\n",
       "      <td>0.988192</td>\n",
       "      <td>-0.249056</td>\n",
       "      <td>-0.227771</td>\n",
       "      <td>0.835326</td>\n",
       "      <td>0.201439</td>\n",
       "      <td>-0.219087</td>\n",
       "      <td>1.678413</td>\n",
       "      <td>1.533414</td>\n",
       "      <td>0.737844</td>\n",
       "      <td>0.410571</td>\n",
       "      <td>-0.755443</td>\n",
       "    </tr>\n",
       "    <tr>\n",
       "      <th>136</th>\n",
       "      <td>-0.385286</td>\n",
       "      <td>-0.441733</td>\n",
       "      <td>1.550465</td>\n",
       "      <td>-0.249056</td>\n",
       "      <td>0.569573</td>\n",
       "      <td>-0.404636</td>\n",
       "      <td>0.875307</td>\n",
       "      <td>-0.865105</td>\n",
       "      <td>-0.639861</td>\n",
       "      <td>0.144879</td>\n",
       "      <td>1.195331</td>\n",
       "      <td>0.250921</td>\n",
       "      <td>0.537112</td>\n",
       "    </tr>\n",
       "    <tr>\n",
       "      <th>281</th>\n",
       "      <td>-0.416247</td>\n",
       "      <td>0.531773</td>\n",
       "      <td>-1.203038</td>\n",
       "      <td>-0.249056</td>\n",
       "      <td>-0.999982</td>\n",
       "      <td>1.169870</td>\n",
       "      <td>-1.164413</td>\n",
       "      <td>0.686418</td>\n",
       "      <td>-0.523947</td>\n",
       "      <td>-1.195148</td>\n",
       "      <td>-1.686837</td>\n",
       "      <td>0.401522</td>\n",
       "      <td>-1.199935</td>\n",
       "    </tr>\n",
       "    <tr>\n",
       "      <th>113</th>\n",
       "      <td>-0.396184</td>\n",
       "      <td>-0.441733</td>\n",
       "      <td>-0.212014</td>\n",
       "      <td>-0.249056</td>\n",
       "      <td>-0.097770</td>\n",
       "      <td>-0.174445</td>\n",
       "      <td>0.944143</td>\n",
       "      <td>-0.590046</td>\n",
       "      <td>-0.408033</td>\n",
       "      <td>0.114562</td>\n",
       "      <td>-0.360124</td>\n",
       "      <td>0.451831</td>\n",
       "      <td>0.563923</td>\n",
       "    </tr>\n",
       "    <tr>\n",
       "      <th>345</th>\n",
       "      <td>-0.416889</td>\n",
       "      <td>-0.441733</td>\n",
       "      <td>-1.045780</td>\n",
       "      <td>-0.249056</td>\n",
       "      <td>-1.007782</td>\n",
       "      <td>-0.294144</td>\n",
       "      <td>-0.755020</td>\n",
       "      <td>1.997058</td>\n",
       "      <td>-0.755774</td>\n",
       "      <td>-0.370516</td>\n",
       "      <td>0.097363</td>\n",
       "      <td>0.330531</td>\n",
       "      <td>-0.361750</td>\n",
       "    </tr>\n",
       "    <tr>\n",
       "      <th>442</th>\n",
       "      <td>0.194033</td>\n",
       "      <td>-0.441733</td>\n",
       "      <td>0.988192</td>\n",
       "      <td>-0.249056</td>\n",
       "      <td>1.574920</td>\n",
       "      <td>0.020450</td>\n",
       "      <td>1.110798</td>\n",
       "      <td>-0.847165</td>\n",
       "      <td>1.678413</td>\n",
       "      <td>1.533414</td>\n",
       "      <td>0.737844</td>\n",
       "      <td>0.438796</td>\n",
       "      <td>0.493368</td>\n",
       "    </tr>\n",
       "    <tr>\n",
       "      <th>456</th>\n",
       "      <td>0.085889</td>\n",
       "      <td>-0.441733</td>\n",
       "      <td>0.988192</td>\n",
       "      <td>-0.249056</td>\n",
       "      <td>1.340917</td>\n",
       "      <td>-0.352459</td>\n",
       "      <td>0.672422</td>\n",
       "      <td>-0.574615</td>\n",
       "      <td>1.678413</td>\n",
       "      <td>1.533414</td>\n",
       "      <td>0.737844</td>\n",
       "      <td>-3.710933</td>\n",
       "      <td>0.834851</td>\n",
       "    </tr>\n",
       "    <tr>\n",
       "      <th>104</th>\n",
       "      <td>-0.405130</td>\n",
       "      <td>-0.441733</td>\n",
       "      <td>-0.427132</td>\n",
       "      <td>-0.249056</td>\n",
       "      <td>-0.331773</td>\n",
       "      <td>-0.059349</td>\n",
       "      <td>0.748504</td>\n",
       "      <td>-0.650160</td>\n",
       "      <td>-0.523947</td>\n",
       "      <td>-0.176485</td>\n",
       "      <td>1.058085</td>\n",
       "      <td>0.406478</td>\n",
       "      <td>-0.107754</td>\n",
       "    </tr>\n",
       "  </tbody>\n",
       "</table>\n",
       "</div>"
      ],
      "text/plain": [
       "         crim        zn     indus      chas       nox        rm       age  \\\n",
       "360  0.072130 -0.441733  0.988192 -0.249056  1.834923  0.295145  0.676045   \n",
       "169 -0.154708 -0.441733  1.207761 -0.249056  0.404904  0.301283  0.936897   \n",
       "481  0.198566 -0.441733  0.988192 -0.249056 -0.227771  0.835326  0.201439   \n",
       "136 -0.385286 -0.441733  1.550465 -0.249056  0.569573 -0.404636  0.875307   \n",
       "281 -0.416247  0.531773 -1.203038 -0.249056 -0.999982  1.169870 -1.164413   \n",
       "113 -0.396184 -0.441733 -0.212014 -0.249056 -0.097770 -0.174445  0.944143   \n",
       "345 -0.416889 -0.441733 -1.045780 -0.249056 -1.007782 -0.294144 -0.755020   \n",
       "442  0.194033 -0.441733  0.988192 -0.249056  1.574920  0.020450  1.110798   \n",
       "456  0.085889 -0.441733  0.988192 -0.249056  1.340917 -0.352459  0.672422   \n",
       "104 -0.405130 -0.441733 -0.427132 -0.249056 -0.331773 -0.059349  0.748504   \n",
       "\n",
       "          dis       rad       tax   ptratio         b     lstat  \n",
       "360 -0.604151  1.678413  1.533414  0.737844  0.211170 -0.748387  \n",
       "169 -0.725185 -0.523947 -0.061279 -1.778334 -0.268428 -0.250274  \n",
       "481 -0.219087  1.678413  1.533414  0.737844  0.410571 -0.755443  \n",
       "136 -0.865105 -0.639861  0.144879  1.195331  0.250921  0.537112  \n",
       "281  0.686418 -0.523947 -1.195148 -1.686837  0.401522 -1.199935  \n",
       "113 -0.590046 -0.408033  0.114562 -0.360124  0.451831  0.563923  \n",
       "345  1.997058 -0.755774 -0.370516  0.097363  0.330531 -0.361750  \n",
       "442 -0.847165  1.678413  1.533414  0.737844  0.438796  0.493368  \n",
       "456 -0.574615  1.678413  1.533414  0.737844 -3.710933  0.834851  \n",
       "104 -0.650160 -0.523947 -0.176485  1.058085  0.406478 -0.107754  "
      ]
     },
     "execution_count": 33,
     "metadata": {},
     "output_type": "execute_result"
    }
   ],
   "source": [
    "# show a sample of the data after normalized\n",
    "normed_train_data.head(10)"
   ]
  },
  {
   "cell_type": "markdown",
   "metadata": {},
   "source": [
    "# Build a Neural Network Model "
   ]
  },
  {
   "cell_type": "code",
   "execution_count": 34,
   "metadata": {},
   "outputs": [],
   "source": [
    "# We decalred a function for creating a model.\n",
    "def build_model1_two_hidden_layers():\n",
    "    # Keras model object created from Sequential class. This will be the container that contains all layers.\n",
    "    model = Sequential()\n",
    "\n",
    "    # The model so far is empty. It can be constructed by adding layers and compilation.\n",
    "    # This Keras model with multiple hidden layers.\n",
    "    \n",
    "    # Input Layer with 10 Neurons\n",
    "    model.add(Dense(10, input_shape = (normed_train_data.shape[1],)))    # Input layer => input_shape must be explicitly designated\n",
    "#     model.add(Activation('relu')) # relu or sigmoid.\n",
    "    \n",
    "    model.add(Dense(50,Activation('relu')))                         # Hidden layer 1 => only output dimension should be designated (output dimension = # of Neurons = 50)\n",
    "    \n",
    "    \n",
    "    model.add(Dense(50, Activation('relu')))                         # Hidden layer 2 => only output dimension should be designated (output dimension = # of Neurons = 50)\n",
    "    \n",
    "    \n",
    "    model.add(Dense(1))                          # Output layer => output dimension = 1 since it is a regression problem\n",
    "    \n",
    "    # Activation: sigmoid, softmax, tanh, relu, LeakyReLU. \n",
    "    #Optimizer: SGD, Adam, RMSProp, etc. # https://www.tensorflow.org/api_docs/python/tf/keras/optimizers\n",
    "    learning_rate = 0.001\n",
    "    optimizer = optimizers.RMSprop(learning_rate)\n",
    "    model.compile(loss='mse',\n",
    "                optimizer=optimizer,\n",
    "                metrics=['mae', 'mse', 'mape']) # for regression problems, mean squared error (MSE) is often employed\n",
    "    \n",
    "    return model\n"
   ]
  },
  {
   "cell_type": "code",
   "execution_count": 35,
   "metadata": {},
   "outputs": [
    {
     "name": "stdout",
     "output_type": "stream",
     "text": [
      "Here is a summary of this model: \n",
      "Model: \"sequential\"\n",
      "_________________________________________________________________\n",
      "Layer (type)                 Output Shape              Param #   \n",
      "=================================================================\n",
      "dense (Dense)                (None, 10)                140       \n",
      "_________________________________________________________________\n",
      "dense_1 (Dense)              (None, 50)                550       \n",
      "_________________________________________________________________\n",
      "dense_2 (Dense)              (None, 50)                2550      \n",
      "_________________________________________________________________\n",
      "dense_3 (Dense)              (None, 1)                 51        \n",
      "=================================================================\n",
      "Total params: 3,291\n",
      "Trainable params: 3,291\n",
      "Non-trainable params: 0\n",
      "_________________________________________________________________\n"
     ]
    }
   ],
   "source": [
    "model = build_model1_two_hidden_layers()\n",
    "print('Here is a summary of this model: ')\n",
    "model.summary()"
   ]
  },
  {
   "cell_type": "code",
   "execution_count": 36,
   "metadata": {},
   "outputs": [
    {
     "name": "stdout",
     "output_type": "stream",
     "text": [
      "Here is a summary of this model: \n",
      "Model: \"sequential_1\"\n",
      "_________________________________________________________________\n",
      "Layer (type)                 Output Shape              Param #   \n",
      "=================================================================\n",
      "dense_4 (Dense)              (None, 32)                448       \n",
      "_________________________________________________________________\n",
      "dense_5 (Dense)              (None, 32)                1056      \n",
      "_________________________________________________________________\n",
      "dense_6 (Dense)              (None, 64)                2112      \n",
      "_________________________________________________________________\n",
      "dense_7 (Dense)              (None, 128)               8320      \n",
      "_________________________________________________________________\n",
      "dense_8 (Dense)              (None, 1)                 129       \n",
      "=================================================================\n",
      "Total params: 12,065\n",
      "Trainable params: 12,065\n",
      "Non-trainable params: 0\n",
      "_________________________________________________________________\n"
     ]
    }
   ],
   "source": [
    "# We decalred a function for creating a model.\n",
    "def build_model2_three_hidden_layers():\n",
    "    # Keras model object created from Sequential class. This will be the container that contains all layers.\n",
    "    model = Sequential()\n",
    "\n",
    "    # The model so far is empty. It can be constructed by adding layers and compilation.\n",
    "    # This Keras model with multiple hidden layers.\n",
    "    \n",
    "    # Input Layer with 32 Neurons\n",
    "    model.add(Dense(32, input_shape = (normed_train_data.shape[1],)))    # Input layer => input_shape must be explicitly designated\n",
    "#     model.add(Activation('relu')) # relu or sigmoid.\n",
    "    \n",
    "    model.add(Dense(32,Activation('relu')))                         # Hidden layer 1 => only output dimension should be designated (output dimension = # of Neurons = 32)\n",
    "    \n",
    "    \n",
    "    model.add(Dense(64, Activation('relu')))                         # Hidden layer 2 => only output dimension should be designated (output dimension = # of Neurons = 64)\n",
    "    \n",
    "    \n",
    "    model.add(Dense(128, Activation('relu')))                         # Hidden layer 3 => only output dimension should be designated (output dimension = # of Neurons = 128)\n",
    "\n",
    "    \n",
    "    model.add(Dense(1))                          # Output layer => output dimension = 1 since it is a regression problem\n",
    "    \n",
    "    # Activation: sigmoid, softmax, tanh, relu, LeakyReLU. \n",
    "    #Optimizer: SGD, Adam, RMSProp, etc. # https://www.tensorflow.org/api_docs/python/tf/keras/optimizers\n",
    "    learning_rate = 0.01\n",
    "    optimizer = optimizers.SGD(learning_rate)\n",
    "    model.compile(loss='mse',\n",
    "                optimizer=optimizer,\n",
    "                metrics=['mae', 'mse', 'mape']) # for regression problems, mean squared error (MSE) is often employed\n",
    "    \n",
    "    return model\n",
    "\n",
    "model2 = build_model2_three_hidden_layers()\n",
    "print('Here is a summary of this model: ')\n",
    "model2.summary()"
   ]
  },
  {
   "cell_type": "code",
   "execution_count": 37,
   "metadata": {},
   "outputs": [
    {
     "name": "stdout",
     "output_type": "stream",
     "text": [
      "Here is a summary of this model: \n",
      "Model: \"sequential_2\"\n",
      "_________________________________________________________________\n",
      "Layer (type)                 Output Shape              Param #   \n",
      "=================================================================\n",
      "dense_9 (Dense)              (None, 32)                448       \n",
      "_________________________________________________________________\n",
      "dense_10 (Dense)             (None, 64)                2112      \n",
      "_________________________________________________________________\n",
      "dense_11 (Dense)             (None, 64)                4160      \n",
      "_________________________________________________________________\n",
      "dense_12 (Dense)             (None, 64)                4160      \n",
      "_________________________________________________________________\n",
      "dense_13 (Dense)             (None, 64)                4160      \n",
      "_________________________________________________________________\n",
      "dense_14 (Dense)             (None, 64)                4160      \n",
      "_________________________________________________________________\n",
      "dense_15 (Dense)             (None, 1)                 65        \n",
      "=================================================================\n",
      "Total params: 19,265\n",
      "Trainable params: 19,265\n",
      "Non-trainable params: 0\n",
      "_________________________________________________________________\n"
     ]
    }
   ],
   "source": [
    "# We decalred a function for creating a model.\n",
    "def build_model3_five_hidden_layers():\n",
    "    # Keras model object created from Sequential class. This will be the container that contains all layers.\n",
    "    model = Sequential()\n",
    "\n",
    "    # The model so far is empty. It can be constructed by adding layers and compilation.\n",
    "    # This Keras model with multiple hidden layers.\n",
    "    \n",
    "    # Input Layer with 32 Neurons\n",
    "    model.add(Dense(32, input_shape = (normed_train_data.shape[1],)))    # Input layer => input_shape must be explicitly designated\n",
    "#     model.add(Activation('relu')) # relu or sigmoid.\n",
    "    \n",
    "    model.add(Dense(64,Activation('relu')))                         # Hidden layer 1 => only output dimension should be designated (output dimension = # of Neurons = 64)\n",
    "    \n",
    "    \n",
    "    model.add(Dense(64, Activation('relu')))                         # Hidden layer 2 => only output dimension should be designated (output dimension = # of Neurons = 64)\n",
    "    \n",
    "    \n",
    "    model.add(Dense(64, Activation('relu')))                         # Hidden layer 3 => only output dimension should be designated (output dimension = # of Neurons = 64)\n",
    "    \n",
    "    \n",
    "    model.add(Dense(64, Activation('relu')))                         # Hidden layer 4 => only output dimension should be designated (output dimension = # of Neurons = 64)\n",
    "    \n",
    "    \n",
    "    model.add(Dense(64, Activation('relu')))                         # Hidden layer 5 => only output dimension should be designated (output dimension = # of Neurons = 64)\n",
    "\n",
    "    \n",
    "    model.add(Dense(1))                          # Output layer => output dimension = 1 since it is a regression problem\n",
    "    \n",
    "    # Activation: sigmoid, softmax, tanh, relu, LeakyReLU. \n",
    "    #Optimizer: SGD, Adam, RMSProp, etc. # https://www.tensorflow.org/api_docs/python/tf/keras/optimizers\n",
    "    learning_rate = 0.001\n",
    "    optimizer = optimizers.RMSprop(learning_rate)\n",
    "    model.compile(loss='mse',\n",
    "                optimizer=optimizer,\n",
    "                metrics=['mae', 'mse', 'mape']) # for regression problems, mean squared error (MSE) is often employed\n",
    "    \n",
    "    return model\n",
    "\n",
    "model3 = build_model3_five_hidden_layers()\n",
    "print('Here is a summary of this model: ')\n",
    "model3.summary()"
   ]
  },
  {
   "cell_type": "code",
   "execution_count": 38,
   "metadata": {},
   "outputs": [
    {
     "data": {
      "text/plain": [
       "array([[-0.48839915],\n",
       "       [-0.38099518],\n",
       "       [-0.4740957 ],\n",
       "       [-0.5585283 ],\n",
       "       [-0.06599195],\n",
       "       [-0.04396331],\n",
       "       [-0.534732  ],\n",
       "       [-0.5507402 ],\n",
       "       [-0.8993965 ],\n",
       "       [-0.1635363 ]], dtype=float32)"
      ]
     },
     "execution_count": 38,
     "metadata": {},
     "output_type": "execute_result"
    }
   ],
   "source": [
    "# Test the model before training (this will use the initial weights.) which in fact will generate random values.\n",
    "example_batch = normed_train_data[:10] # take the first 10 data points from the training data.\n",
    "example_result = model.predict(example_batch)\n",
    "example_result"
   ]
  },
  {
   "cell_type": "markdown",
   "metadata": {},
   "source": [
    "# Save checkpoints during training"
   ]
  },
  {
   "cell_type": "code",
   "execution_count": 39,
   "metadata": {},
   "outputs": [],
   "source": [
    "# pip install -q pyyaml h5py  # Required to save models in HDF5 format\n",
    "\n",
    "checkpoint_path = r\".\\models\\house_prediction.ckpt\"\n",
    "\n",
    "# Create a callback that saves the model's weights\n",
    "ckpt_callback = tf.keras.callbacks.ModelCheckpoint(filepath=checkpoint_path,\n",
    "                                                 monitor='val_loss', # or val_accuracy if you have it.\n",
    "                                                 save_best_only=True, # Default false. If you don't change the file name then the output will be overritten at each step and only the last model will be saved.\n",
    "                                                 save_weights_only=True, # True => model.save_weights (weights and no structure, you need JSON file for structure), False => model.save (saves weights & structure)\n",
    "                                                 verbose=0,\n",
    "                                                  )\n",
    "\n",
    "# epoch"
   ]
  },
  {
   "cell_type": "markdown",
   "metadata": {},
   "source": [
    "# Training the model we built above."
   ]
  },
  {
   "cell_type": "code",
   "execution_count": 40,
   "metadata": {},
   "outputs": [
    {
     "name": "stdout",
     "output_type": "stream",
     "text": [
      "Here is a summary of this model: \n",
      "Model: \"sequential_3\"\n",
      "_________________________________________________________________\n",
      "Layer (type)                 Output Shape              Param #   \n",
      "=================================================================\n",
      "dense_16 (Dense)             (None, 32)                448       \n",
      "_________________________________________________________________\n",
      "dense_17 (Dense)             (None, 32)                1056      \n",
      "_________________________________________________________________\n",
      "dense_18 (Dense)             (None, 64)                2112      \n",
      "_________________________________________________________________\n",
      "dense_19 (Dense)             (None, 128)               8320      \n",
      "_________________________________________________________________\n",
      "dense_20 (Dense)             (None, 1)                 129       \n",
      "=================================================================\n",
      "Total params: 12,065\n",
      "Trainable params: 12,065\n",
      "Non-trainable params: 0\n",
      "_________________________________________________________________\n",
      "\n",
      "Epoch: 0, loss:205.3981,  mae:11.3911,  mape:57.7011,  mse:205.3981,  val_loss:46.4023,  val_mae:5.2800,  val_mape:26.7317,  val_mse:46.4023,  \n",
      "....................................................................................................\n",
      "Epoch: 100, loss:7.4900,  mae:2.1682,  mape:10.7960,  mse:7.4900,  val_loss:27.6753,  val_mae:3.1437,  val_mape:16.9241,  val_mse:27.6753,  \n",
      "....................................................................................................\n",
      "Epoch: 200, loss:6.0333,  mae:1.7256,  mape:8.1112,  mse:6.0333,  val_loss:47.6112,  val_mae:4.5579,  val_mape:23.0856,  val_mse:47.6112,  \n",
      "....................................................................................................\n",
      "Epoch: 300, loss:5.5841,  mae:1.7714,  mape:8.3387,  mse:5.5841,  val_loss:35.9496,  val_mae:3.5055,  val_mape:18.2861,  val_mse:35.9496,  \n",
      "....................................................................................................\n",
      "Epoch: 400, loss:1.5939,  mae:0.9413,  mape:4.4814,  mse:1.5939,  val_loss:58.5268,  val_mae:4.4568,  val_mape:21.5526,  val_mse:58.5268,  \n",
      "....................................................................................................CPU times: user 22.3 s, sys: 1.7 s, total: 24 s\n",
      "Wall time: 22.5 s\n"
     ]
    }
   ],
   "source": [
    "%%time\n",
    "EPOCHS = 500\n",
    "batch_size = 32 # 6 iteration\n",
    "\n",
    "model = build_model2_three_hidden_layers()\n",
    "print('Here is a summary of this model: ')\n",
    "model.summary()\n",
    "\n",
    "\n",
    "with tf.device('/CPU:0'): # it can be with '/CPU:0'\n",
    "# with tf.device('/GPU:0'): # comment the previous line and uncomment this line to train with a GPU, if available.\n",
    "    history = model.fit(\n",
    "        normed_train_data, \n",
    "        train_labels,\n",
    "        batch_size = batch_size,\n",
    "        epochs=EPOCHS, \n",
    "        verbose=0,\n",
    "        shuffle=True,\n",
    "        steps_per_epoch = int(normed_train_data.shape[0] / batch_size) ,\n",
    "        validation_data = (normed_valid_dataset, valid_labels),\n",
    "        callbacks=[tfdocs.modeling.EpochDots(), \n",
    "                 ckpt_callback\n",
    "                  ],\n",
    "        \n",
    "    )\n",
    "\n"
   ]
  },
  {
   "cell_type": "code",
   "execution_count": 41,
   "metadata": {},
   "outputs": [
    {
     "name": "stdout",
     "output_type": "stream",
     "text": [
      "Summary of the results after each epoch: \n"
     ]
    },
    {
     "data": {
      "text/html": [
       "<div>\n",
       "<style scoped>\n",
       "    .dataframe tbody tr th:only-of-type {\n",
       "        vertical-align: middle;\n",
       "    }\n",
       "\n",
       "    .dataframe tbody tr th {\n",
       "        vertical-align: top;\n",
       "    }\n",
       "\n",
       "    .dataframe thead th {\n",
       "        text-align: right;\n",
       "    }\n",
       "</style>\n",
       "<table border=\"1\" class=\"dataframe\">\n",
       "  <thead>\n",
       "    <tr style=\"text-align: right;\">\n",
       "      <th></th>\n",
       "      <th>loss</th>\n",
       "      <th>mae</th>\n",
       "      <th>mse</th>\n",
       "      <th>mape</th>\n",
       "      <th>val_loss</th>\n",
       "      <th>val_mae</th>\n",
       "      <th>val_mse</th>\n",
       "      <th>val_mape</th>\n",
       "      <th>epoch</th>\n",
       "    </tr>\n",
       "  </thead>\n",
       "  <tbody>\n",
       "    <tr>\n",
       "      <th>495</th>\n",
       "      <td>4.502590</td>\n",
       "      <td>1.540611</td>\n",
       "      <td>4.502590</td>\n",
       "      <td>6.861724</td>\n",
       "      <td>33.444557</td>\n",
       "      <td>3.570688</td>\n",
       "      <td>33.444557</td>\n",
       "      <td>17.266134</td>\n",
       "      <td>495</td>\n",
       "    </tr>\n",
       "    <tr>\n",
       "      <th>496</th>\n",
       "      <td>1.622500</td>\n",
       "      <td>0.895547</td>\n",
       "      <td>1.622500</td>\n",
       "      <td>4.094720</td>\n",
       "      <td>30.661922</td>\n",
       "      <td>3.300912</td>\n",
       "      <td>30.661922</td>\n",
       "      <td>16.355751</td>\n",
       "      <td>496</td>\n",
       "    </tr>\n",
       "    <tr>\n",
       "      <th>497</th>\n",
       "      <td>1.949053</td>\n",
       "      <td>1.084577</td>\n",
       "      <td>1.949053</td>\n",
       "      <td>5.323722</td>\n",
       "      <td>31.300255</td>\n",
       "      <td>3.162564</td>\n",
       "      <td>31.300255</td>\n",
       "      <td>15.898538</td>\n",
       "      <td>497</td>\n",
       "    </tr>\n",
       "    <tr>\n",
       "      <th>498</th>\n",
       "      <td>1.994594</td>\n",
       "      <td>1.054637</td>\n",
       "      <td>1.994594</td>\n",
       "      <td>5.165699</td>\n",
       "      <td>34.540516</td>\n",
       "      <td>3.892159</td>\n",
       "      <td>34.540516</td>\n",
       "      <td>18.027225</td>\n",
       "      <td>498</td>\n",
       "    </tr>\n",
       "    <tr>\n",
       "      <th>499</th>\n",
       "      <td>2.007668</td>\n",
       "      <td>1.007814</td>\n",
       "      <td>2.007668</td>\n",
       "      <td>4.781777</td>\n",
       "      <td>30.723520</td>\n",
       "      <td>3.111587</td>\n",
       "      <td>30.723520</td>\n",
       "      <td>15.583472</td>\n",
       "      <td>499</td>\n",
       "    </tr>\n",
       "  </tbody>\n",
       "</table>\n",
       "</div>"
      ],
      "text/plain": [
       "         loss       mae       mse      mape   val_loss   val_mae    val_mse  \\\n",
       "495  4.502590  1.540611  4.502590  6.861724  33.444557  3.570688  33.444557   \n",
       "496  1.622500  0.895547  1.622500  4.094720  30.661922  3.300912  30.661922   \n",
       "497  1.949053  1.084577  1.949053  5.323722  31.300255  3.162564  31.300255   \n",
       "498  1.994594  1.054637  1.994594  5.165699  34.540516  3.892159  34.540516   \n",
       "499  2.007668  1.007814  2.007668  4.781777  30.723520  3.111587  30.723520   \n",
       "\n",
       "      val_mape  epoch  \n",
       "495  17.266134    495  \n",
       "496  16.355751    496  \n",
       "497  15.898538    497  \n",
       "498  18.027225    498  \n",
       "499  15.583472    499  "
      ]
     },
     "execution_count": 41,
     "metadata": {},
     "output_type": "execute_result"
    }
   ],
   "source": [
    "print('Summary of the results after each epoch: ')\n",
    "hist = pd.DataFrame(history.history)\n",
    "hist['epoch'] = history.epoch\n",
    "hist.tail()"
   ]
  },
  {
   "cell_type": "markdown",
   "metadata": {},
   "source": [
    "# See some of the model results"
   ]
  },
  {
   "cell_type": "code",
   "execution_count": 42,
   "metadata": {},
   "outputs": [
    {
     "name": "stdout",
     "output_type": "stream",
     "text": [
      "predicted values: \n"
     ]
    },
    {
     "data": {
      "text/plain": [
       "array([[24.823845],\n",
       "       [22.247332],\n",
       "       [22.864393],\n",
       "       [16.881184],\n",
       "       [34.38459 ],\n",
       "       [18.031103],\n",
       "       [17.769241],\n",
       "       [17.35893 ],\n",
       "       [12.886645],\n",
       "       [18.847696]], dtype=float32)"
      ]
     },
     "execution_count": 42,
     "metadata": {},
     "output_type": "execute_result"
    }
   ],
   "source": [
    "# normed_train_data.pop('medv')\n",
    "# Test the model after training.\n",
    "example_batch = normed_train_data[:10]\n",
    "example_result = model.predict(example_batch)\n",
    "print('predicted values: ')\n",
    "example_result"
   ]
  },
  {
   "cell_type": "code",
   "execution_count": 43,
   "metadata": {},
   "outputs": [
    {
     "name": "stdout",
     "output_type": "stream",
     "text": [
      "The ground truth: \n"
     ]
    },
    {
     "data": {
      "text/plain": [
       "360    25.0\n",
       "169    22.3\n",
       "481    23.7\n",
       "136    17.4\n",
       "281    35.4\n",
       "113    18.7\n",
       "345    17.5\n",
       "442    18.4\n",
       "456    12.7\n",
       "104    20.1\n",
       "Name: medv, dtype: float64"
      ]
     },
     "execution_count": 43,
     "metadata": {},
     "output_type": "execute_result"
    }
   ],
   "source": [
    "print('The ground truth: ')\n",
    "train_labels[:10]"
   ]
  },
  {
   "cell_type": "code",
   "execution_count": 63,
   "metadata": {},
   "outputs": [
    {
     "name": "stdout",
     "output_type": "stream",
     "text": [
      "predicted values: \n"
     ]
    },
    {
     "data": {
      "text/plain": [
       "array([[25.361673],\n",
       "       [29.169382],\n",
       "       [22.300455],\n",
       "       [12.614345],\n",
       "       [15.340643],\n",
       "       [20.652166],\n",
       "       [26.256605],\n",
       "       [20.12683 ],\n",
       "       [45.021088],\n",
       "       [30.447807]], dtype=float32)"
      ]
     },
     "execution_count": 63,
     "metadata": {},
     "output_type": "execute_result"
    }
   ],
   "source": [
    "# normed_train_data.pop('medv')\n",
    "# Test the model after training.\n",
    "example_batch = normed_test_data[:10]\n",
    "example_result = model.predict(example_batch)\n",
    "print('predicted values: ')\n",
    "example_result"
   ]
  },
  {
   "cell_type": "code",
   "execution_count": 64,
   "metadata": {},
   "outputs": [
    {
     "name": "stdout",
     "output_type": "stream",
     "text": [
      "The ground truth: \n"
     ]
    },
    {
     "data": {
      "text/plain": [
       "65     23.5\n",
       "292    27.9\n",
       "501    22.4\n",
       "466    19.0\n",
       "48     14.4\n",
       "131    19.6\n",
       "302    26.4\n",
       "494    24.5\n",
       "228    46.7\n",
       "277    33.1\n",
       "Name: medv, dtype: float64"
      ]
     },
     "execution_count": 64,
     "metadata": {},
     "output_type": "execute_result"
    }
   ],
   "source": [
    "print('The ground truth: ')\n",
    "test_labels[:10]"
   ]
  },
  {
   "cell_type": "markdown",
   "metadata": {},
   "source": [
    "# See how the training went by plotting the loss/mse across epochs\n"
   ]
  },
  {
   "cell_type": "code",
   "execution_count": 44,
   "metadata": {},
   "outputs": [],
   "source": [
    "plotter = tfdocs.plots.HistoryPlotter(smoothing_std=2)"
   ]
  },
  {
   "cell_type": "code",
   "execution_count": 67,
   "metadata": {},
   "outputs": [
    {
     "data": {
      "text/plain": [
       "Text(0, 0.5, 'MAE [medv]')"
      ]
     },
     "execution_count": 67,
     "metadata": {},
     "output_type": "execute_result"
    },
    {
     "data": {
      "image/png": "[encoded data removed]",
      "text/plain": [
       "<Figure size 432x288 with 1 Axes>"
      ]
     },
     "metadata": {
      "needs_background": "light"
     },
     "output_type": "display_data"
    }
   ],
   "source": [
    "plotter.plot({'Basic': history}, metric = \"mae\")\n",
    "plt.ylim([0, 8])\n",
    "plt.ylabel('MAE [medv]')"
   ]
  },
  {
   "cell_type": "code",
   "execution_count": 69,
   "metadata": {},
   "outputs": [
    {
     "data": {
      "text/plain": [
       "Text(0, 0.5, 'MSE [medv^2]')"
      ]
     },
     "execution_count": 69,
     "metadata": {},
     "output_type": "execute_result"
    },
    {
     "data": {
      "image/png": "[encoded data removed]",
      "text/plain": [
       "<Figure size 432x288 with 1 Axes>"
      ]
     },
     "metadata": {
      "needs_background": "light"
     },
     "output_type": "display_data"
    }
   ],
   "source": [
    "plotter.plot({'Basic': history}, metric = \"mse\")\n",
    "plt.ylim([0, 80])\n",
    "plt.ylabel('MSE [medv^2]')"
   ]
  },
  {
   "cell_type": "code",
   "execution_count": 70,
   "metadata": {},
   "outputs": [
    {
     "name": "stdout",
     "output_type": "stream",
     "text": [
      "Error Rate on Train Split: \n",
      "9/9 - 0s - loss: 1.1284 - mae: 0.7477 - mse: 1.1284 - mape: 3.7817\n",
      "Train set Mean Abs Error    :  0.75 medv\n",
      "Train set Mean Squared Error:  1.13 medv\n"
     ]
    }
   ],
   "source": [
    "print('Error Rate on Train Split: ')\n",
    "loss, mae, mse, mape = model.evaluate(normed_train_data, train_labels, verbose=2)\n",
    "\n",
    "print(\"Train set Mean Abs Error    : {:5.2f} medv\".format(mae))\n",
    "print(\"Train set Mean Squared Error: {:5.2f} medv\".format(mse))"
   ]
  },
  {
   "cell_type": "code",
   "execution_count": 71,
   "metadata": {},
   "outputs": [
    {
     "name": "stdout",
     "output_type": "stream",
     "text": [
      "Error Rate on Evaluation Split: \n",
      "3/3 - 0s - loss: 30.7235 - mae: 3.1116 - mse: 30.7235 - mape: 15.5835\n",
      "Validation set Mean Abs Error    :  3.11 medv\n",
      "Validation set Mean Squared Error: 30.72 medv\n"
     ]
    }
   ],
   "source": [
    "print('Error Rate on Evaluation Split: ')\n",
    "loss, mae, mse, mape = model.evaluate(normed_valid_dataset, valid_labels, verbose=2)\n",
    "\n",
    "print(\"Validation set Mean Abs Error    : {:5.2f} medv\".format(mae))\n",
    "print(\"Validation set Mean Squared Error: {:5.2f} medv\".format(mse))"
   ]
  },
  {
   "cell_type": "code",
   "execution_count": 72,
   "metadata": {},
   "outputs": [
    {
     "name": "stdout",
     "output_type": "stream",
     "text": [
      "Error Rate on Test Split: \n",
      "3/3 - 0s - loss: 17.1224 - mae: 2.5781 - mse: 17.1224 - mape: 13.5038\n",
      "Testing set Mean Abs Error    :  2.58 medv\n",
      "Testing set Mean Squared Error: 17.12 medv\n"
     ]
    }
   ],
   "source": [
    "print('Error Rate on Test Split: ')\n",
    "loss, mae, mse, mape = model.evaluate(normed_test_data, test_labels, verbose=2)\n",
    "\n",
    "print(\"Testing set Mean Abs Error    : {:5.2f} medv\".format(mae))\n",
    "print(\"Testing set Mean Squared Error: {:5.2f} medv\".format(mse))"
   ]
  },
  {
   "cell_type": "code",
   "execution_count": 77,
   "metadata": {},
   "outputs": [
    {
     "data": {
      "image/png": "[encoded data removed]",
      "text/plain": [
       "<Figure size 432x288 with 1 Axes>"
      ]
     },
     "metadata": {
      "needs_background": "light"
     },
     "output_type": "display_data"
    }
   ],
   "source": [
    "train_predictions = model.predict(normed_train_data).flatten()\n",
    "\n",
    "a = plt.axes(aspect='equal')\n",
    "plt.scatter(train_labels, test_predictions)\n",
    "plt.xlabel('True Values [medv]')\n",
    "plt.ylabel('Predictions [medv]')\n",
    "lims = [0, 60]\n",
    "plt.xlim(lims)\n",
    "plt.ylim(lims)\n",
    "_ = plt.plot(lims, lims)"
   ]
  },
  {
   "cell_type": "code",
   "execution_count": 78,
   "metadata": {},
   "outputs": [
    {
     "data": {
      "image/png": "[encoded data removed]",
      "text/plain": [
       "<Figure size 432x288 with 1 Axes>"
      ]
     },
     "metadata": {
      "needs_background": "light"
     },
     "output_type": "display_data"
    }
   ],
   "source": [
    "test_predictions = model.predict(normed_test_data).flatten()\n",
    "\n",
    "a = plt.axes(aspect='equal')\n",
    "plt.scatter(test_labels, test_predictions)\n",
    "plt.xlabel('True Values [medv]')\n",
    "plt.ylabel('Predictions [medv]')\n",
    "lims = [0, 60]\n",
    "plt.xlim(lims)\n",
    "plt.ylim(lims)\n",
    "_ = plt.plot(lims, lims)"
   ]
  },
  {
   "cell_type": "code",
   "execution_count": 79,
   "metadata": {},
   "outputs": [
    {
     "data": {
      "image/png": "[encoded data removed]",
      "text/plain": [
       "<Figure size 432x288 with 1 Axes>"
      ]
     },
     "metadata": {
      "needs_background": "light"
     },
     "output_type": "display_data"
    }
   ],
   "source": [
    "# error distribution.\n",
    "error = test_predictions - test_labels\n",
    "plt.hist(error, bins = 25)\n",
    "plt.xlabel(\"Prediction Error [medv]\")\n",
    "_ = plt.ylabel(\"Count\")"
   ]
  },
  {
   "cell_type": "markdown",
   "metadata": {},
   "source": [
    "# Save and load the model (weights)\n",
    "# https://www.tensorflow.org/tutorials/keras/save_and_load"
   ]
  },
  {
   "cell_type": "markdown",
   "metadata": {},
   "source": [
    "## a. Manually save weights only (no structure will be saved)\n"
   ]
  },
  {
   "cell_type": "code",
   "execution_count": 83,
   "metadata": {},
   "outputs": [
    {
     "name": "stdout",
     "output_type": "stream",
     "text": [
      "3/3 - 0s - loss: 17.1224 - mae: 2.5781 - mse: 17.1224 - mape: 13.5038\n",
      "Testing set Mean Abs Error:  2.58 medv\n"
     ]
    }
   ],
   "source": [
    "# a. Manually save weights only (no structure will be saved)\n",
    "#################################\n",
    "\n",
    "# Save the weights\n",
    "model.save_weights('./model_weights/my_checkpoint')\n",
    "\n",
    "# Create a new model instance\n",
    "model = build_model2_three_hidden_layers()\n",
    "\n",
    "# Restore the weights\n",
    "model.load_weights('./model_weights/my_checkpoint')\n",
    "\n",
    "# Evaluate the model\n",
    "loss, mae, mse, mape = model.evaluate(normed_test_data, test_labels, verbose=2)\n",
    "\n",
    "print(\"Testing set Mean Abs Error: {:5.2f} medv\".format(mae))"
   ]
  },
  {
   "cell_type": "code",
   "execution_count": null,
   "metadata": {},
   "outputs": [],
   "source": []
  },
  {
   "cell_type": "code",
   "execution_count": null,
   "metadata": {},
   "outputs": [],
   "source": []
  },
  {
   "cell_type": "code",
   "execution_count": null,
   "metadata": {},
   "outputs": [],
   "source": []
  }
 ],
 "metadata": {
  "kernelspec": {
   "display_name": "Python 3",
   "language": "python",
   "name": "python3"
  },
  "language_info": {
   "codemirror_mode": {
    "name": "ipython",
    "version": 3
   },
   "file_extension": ".py",
   "mimetype": "text/x-python",
   "name": "python",
   "nbconvert_exporter": "python",
   "pygments_lexer": "ipython3",
   "version": "3.7.7"
  }
 },
 "nbformat": 4,
 "nbformat_minor": 4
}
