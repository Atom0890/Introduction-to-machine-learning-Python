{
 "cells": [
  {
   "cell_type": "markdown",
   "metadata": {},
   "source": [
    "# Welcome to Jupyter Lab tutorial\n",
    "## Level 2\n",
    "### Level 3\n",
    "\n",
    "this is tutorial to go over Python."
   ]
  },
  {
   "cell_type": "markdown",
   "metadata": {
    "colab_type": "text",
    "id": "SejNSmRmnBYF"
   },
   "source": [
    "# Python Tutorial Notebook\n"
   ]
  },
  {
   "cell_type": "markdown",
   "metadata": {
    "colab_type": "text",
    "id": "CCTFTBDTD5nA"
   },
   "source": [
    "#### Basic Syntax\n",
    "\n",
    "```python\n",
    "\n",
    "result_list = [output_exp for var in input_list if (condition on var is true)]\n",
    "```"
   ]
  },
  {
   "cell_type": "code",
   "execution_count": 4,
   "metadata": {
    "colab": {},
    "colab_type": "code",
    "id": "qv6vvJ1G9tt_"
   },
   "outputs": [],
   "source": [
    "nums = range(100)\n",
    "squares = []\n",
    "\n",
    "for num in nums:\n",
    "    squares.append(num**2) # num * num"
   ]
  },
  {
   "cell_type": "code",
   "execution_count": 3,
   "metadata": {
    "colab": {},
    "colab_type": "code",
    "id": "elSIhi5r95d5"
   },
   "outputs": [],
   "source": [
    "nums = range(100)\n",
    "squares = [num**2 for num in nums]"
   ]
  },
  {
   "cell_type": "code",
   "execution_count": 5,
   "metadata": {
    "colab": {},
    "colab_type": "code",
    "id": "k_P6Bo5Z-hlk"
   },
   "outputs": [],
   "source": [
    "nums = range(100)\n",
    "odd_squares = []\n",
    "\n",
    "for num in nums:\n",
    "    if num % 2 == 1: # Odd value\n",
    "        odd_squares.append(num**2)"
   ]
  },
  {
   "cell_type": "code",
   "execution_count": 7,
   "metadata": {
    "colab": {},
    "colab_type": "code",
    "id": "x2D8-uhV-yyO"
   },
   "outputs": [],
   "source": [
    "# list comprehensions are (often) more concise\n",
    "nums = range(100)\n",
    "odd_squares = [num ** 2 for num in nums if num % 2 == 1]"
   ]
  },
  {
   "cell_type": "markdown",
   "metadata": {
    "colab_type": "text",
    "id": "lsM4SC68_g-r"
   },
   "source": [
    "#### Dict comprehensions"
   ]
  },
  {
   "cell_type": "code",
   "execution_count": 8,
   "metadata": {
    "colab": {},
    "colab_type": "code",
    "id": "UXrHcXUf_zD4"
   },
   "outputs": [],
   "source": [
    "nums = range(100)\n",
    "# Empty dictionary (hashtable.)\n",
    "odd_dict = {}\n",
    "\n",
    "for num in nums:\n",
    "    if num % 2 == 1: # Odd\n",
    "        odd_dict[num] = num **2\n",
    "        # e.g., key: 3 => value: 3 *3"
   ]
  },
  {
   "cell_type": "code",
   "execution_count": 10,
   "metadata": {
    "colab": {},
    "colab_type": "code",
    "id": "j0SpOloPAIVx"
   },
   "outputs": [],
   "source": [
    "nums = range(100)\n",
    "odd_dict = {num : num ** 2 for num in nums if num % 2 == 1}"
   ]
  },
  {
   "cell_type": "markdown",
   "metadata": {
    "colab_type": "text",
    "id": "sgpdmB8-Nzei"
   },
   "source": [
    "\n",
    "- Jupyter notebooks provide built-in commands called **magics** to address common problems in the data analysis workflow\n",
    "\n"
   ]
  },
  {
   "cell_type": "markdown",
   "metadata": {
    "colab_type": "text",
    "id": "DaOA_ijjBFy7"
   },
   "source": [
    "#### Timing\n",
    "\n",
    "- likely the most useful magic functions are `time` and `timeit`\n",
    "\n",
    "- `time` times the amount of time used for a single run of the line of code or cell\n",
    "- `timeit` runs multiple trials of the line of code or cell to provide a more accurate measurement of the execution time"
   ]
  },
  {
   "cell_type": "code",
   "execution_count": 11,
   "metadata": {
    "colab": {
     "base_uri": "https://localhost:8080/",
     "height": 54
    },
    "colab_type": "code",
    "id": "4mCnkqHnBwNV",
    "outputId": "dc267321-f744-4cba-809e-6ca06ae259f6"
   },
   "outputs": [
    {
     "name": "stdout",
     "output_type": "stream",
     "text": [
      "CPU times: user 55.6 ms, sys: 8.81 ms, total: 64.4 ms\n",
      "Wall time: 66.9 ms\n"
     ]
    }
   ],
   "source": [
    "%time odd_squares = [num ** 2 for num in range(100000) if num % 2 == 1]"
   ]
  },
  {
   "cell_type": "code",
   "execution_count": 12,
   "metadata": {
    "colab": {
     "base_uri": "https://localhost:8080/",
     "height": 35
    },
    "colab_type": "code",
    "id": "ngdZvR1QB6Lh",
    "outputId": "a7c80663-e866-4a0f-9ed4-a3b47e1650f4"
   },
   "outputs": [
    {
     "name": "stdout",
     "output_type": "stream",
     "text": [
      "6.75 ms ± 984 µs per loop (mean ± std. dev. of 7 runs, 100 loops each)\n"
     ]
    }
   ],
   "source": [
    "%timeit odd_squares = [num ** 2 for num in range(10000) if num % 2 == 1]"
   ]
  },
  {
   "cell_type": "code",
   "execution_count": 13,
   "metadata": {
    "colab": {
     "base_uri": "https://localhost:8080/",
     "height": 54
    },
    "colab_type": "code",
    "id": "Cs5dc0wdCWkP",
    "outputId": "0450fe4b-5c6e-4d13-f683-c15fc1d06257"
   },
   "outputs": [
    {
     "name": "stdout",
     "output_type": "stream",
     "text": [
      "CPU times: user 7 µs, sys: 1 µs, total: 8 µs\n",
      "Wall time: 17.2 µs\n"
     ]
    }
   ],
   "source": [
    "# we can also time entire cells\n",
    "%time\n",
    "\n",
    "nums = range(100000)\n",
    "odd_squares = []\n",
    "\n",
    "for num in nums:\n",
    "    if num % 2 == 1:\n",
    "        odd_squares.append(num**2)"
   ]
  },
  {
   "cell_type": "code",
   "execution_count": 14,
   "metadata": {
    "colab": {
     "base_uri": "https://localhost:8080/",
     "height": 35
    },
    "colab_type": "code",
    "id": "oCC75kOFC8tI",
    "outputId": "2b23853e-212c-46ec-94cb-5a883e7b106a"
   },
   "outputs": [
    {
     "name": "stdout",
     "output_type": "stream",
     "text": [
      "76 ms ± 23.4 ms per loop (mean ± std. dev. of 7 runs, 10 loops each)\n"
     ]
    }
   ],
   "source": [
    "%%timeit\n",
    "\n",
    "nums = range(100000)\n",
    "odd_squares = []\n",
    "\n",
    "for num in nums:\n",
    "    if num % 2 == 1:\n",
    "        odd_squares.append(num**2)"
   ]
  },
  {
   "cell_type": "markdown",
   "metadata": {
    "colab_type": "text",
    "id": "TEzyDxq6DD7N"
   },
   "source": [
    "#### Other useful Magics\n",
    "\n",
    "- `%who_ls`: lists all active variables in the namespace\n",
    "- `%reset`: resets the namespace and all named variables\n",
    "- `%debug`: activate the python debugger\n",
    "- `%lsmagic`: list all the available magic commands"
   ]
  },
  {
   "cell_type": "markdown",
   "metadata": {
    "colab_type": "text",
    "id": "oECU2uJZN0S1"
   },
   "source": [
    "### Out of Scope?\n",
    "\n",
    "- A quirk of Python variables is that they are scoped to the innermost function, and control blocks like `if` don't count"
   ]
  },
  {
   "cell_type": "code",
   "execution_count": 22,
   "metadata": {
    "colab": {},
    "colab_type": "code",
    "id": "pMi1WlM6yZKt"
   },
   "outputs": [
    {
     "name": "stdout",
     "output_type": "stream",
     "text": [
      "I've been initialized!\n"
     ]
    }
   ],
   "source": [
    "# Will this code throw an exception? What is the output?\n",
    "if True:\n",
    "    x = \"I've been initialized!\"\n",
    "print(x)"
   ]
  },
  {
   "cell_type": "code",
   "execution_count": 23,
   "metadata": {
    "colab": {},
    "colab_type": "code",
    "id": "uUCWpHACG4bg"
   },
   "outputs": [
    {
     "name": "stdout",
     "output_type": "stream",
     "text": [
      "I've been initialized!\n"
     ]
    }
   ],
   "source": [
    "# Will this code throw an exception? What is the output?\n",
    "if False:\n",
    "    x = \"I've been initialized!\"\n",
    "print(x)"
   ]
  },
  {
   "cell_type": "markdown",
   "metadata": {
    "colab_type": "text",
    "id": "rXDlHyltbXvF"
   },
   "source": [
    "### Imports\n",
    "\n",
    "- we need to import the NumPy module below in order to use it\n",
    "- we often use the `as` syntax to alias the module name to an abbreviation"
   ]
  },
  {
   "cell_type": "code",
   "execution_count": 15,
   "metadata": {
    "colab": {},
    "colab_type": "code",
    "id": "1DQPHorfbVFK"
   },
   "outputs": [],
   "source": [
    "# subsequent references to the numpy module can use 'np'\n",
    "import numpy as np"
   ]
  },
  {
   "cell_type": "markdown",
   "metadata": {
    "colab_type": "text",
    "id": "RIdCV4VrnZY1"
   },
   "source": [
    "### Rolling 5 Dice\n"
   ]
  },
  {
   "cell_type": "markdown",
   "metadata": {
    "colab_type": "text",
    "id": "JJm-06_nZxbk"
   },
   "source": [
    "\n",
    "```python\n",
    "y = np.zeros(5)       \n",
    "roll_idx = np.array(range(5))\n",
    "y[roll_idx] = np.floor(np.random.uniform(0,6, roll_idx.shape))\n",
    "```\n",
    "\n",
    "---\n",
    "\n",
    "\n",
    "- `np.zeros(5)` creates an array of zeros of shape (5,)\n",
    "  - **Note:** this is a 1D array with 5 elements, which is different than an 2D array with only one column, shape (5,1)\n",
    "- `np.array(range(5))` creates an array \\[0,1,2,3,4\\] of shape (5,)\n",
    "- `np.random.uniform(0,6, roll_idx.shape)` samples from the uniform distribution in the range \\[0, 6) in the given shape\n",
    "- `np.floor` rounds down to the nearest integer\n",
    "  - **Note:** we're using zero-indexed dice, so our possible rolls are \\[0,1,2,3,4,5\\]\n",
    "  \n",
    "*Tip: If you are unsure of a function's arguments or return signature, you can run `help(function_name)` to print the docstring*"
   ]
  },
  {
   "cell_type": "code",
   "execution_count": 16,
   "metadata": {
    "colab": {},
    "colab_type": "code",
    "id": "vVqHU3URbN2_"
   },
   "outputs": [
    {
     "name": "stdout",
     "output_type": "stream",
     "text": [
      "Help on built-in function uniform:\n",
      "\n",
      "uniform(...) method of numpy.random.mtrand.RandomState instance\n",
      "    uniform(low=0.0, high=1.0, size=None)\n",
      "    \n",
      "    Draw samples from a uniform distribution.\n",
      "    \n",
      "    Samples are uniformly distributed over the half-open interval\n",
      "    ``[low, high)`` (includes low, but excludes high).  In other words,\n",
      "    any value within the given interval is equally likely to be drawn\n",
      "    by `uniform`.\n",
      "    \n",
      "    .. note::\n",
      "        New code should use the ``uniform`` method of a ``default_rng()``\n",
      "        instance instead; see `random-quick-start`.\n",
      "    \n",
      "    Parameters\n",
      "    ----------\n",
      "    low : float or array_like of floats, optional\n",
      "        Lower boundary of the output interval.  All values generated will be\n",
      "        greater than or equal to low.  The default value is 0.\n",
      "    high : float or array_like of floats\n",
      "        Upper boundary of the output interval.  All values generated will be\n",
      "        less than or equal to high.  The default value is 1.0.\n",
      "    size : int or tuple of ints, optional\n",
      "        Output shape.  If the given shape is, e.g., ``(m, n, k)``, then\n",
      "        ``m * n * k`` samples are drawn.  If size is ``None`` (default),\n",
      "        a single value is returned if ``low`` and ``high`` are both scalars.\n",
      "        Otherwise, ``np.broadcast(low, high).size`` samples are drawn.\n",
      "    \n",
      "    Returns\n",
      "    -------\n",
      "    out : ndarray or scalar\n",
      "        Drawn samples from the parameterized uniform distribution.\n",
      "    \n",
      "    See Also\n",
      "    --------\n",
      "    randint : Discrete uniform distribution, yielding integers.\n",
      "    random_integers : Discrete uniform distribution over the closed\n",
      "                      interval ``[low, high]``.\n",
      "    random_sample : Floats uniformly distributed over ``[0, 1)``.\n",
      "    random : Alias for `random_sample`.\n",
      "    rand : Convenience function that accepts dimensions as input, e.g.,\n",
      "           ``rand(2,2)`` would generate a 2-by-2 array of floats,\n",
      "           uniformly distributed over ``[0, 1)``.\n",
      "    Generator.uniform: which should be used for new code.\n",
      "    \n",
      "    Notes\n",
      "    -----\n",
      "    The probability density function of the uniform distribution is\n",
      "    \n",
      "    .. math:: p(x) = \\frac{1}{b - a}\n",
      "    \n",
      "    anywhere within the interval ``[a, b)``, and zero elsewhere.\n",
      "    \n",
      "    When ``high`` == ``low``, values of ``low`` will be returned.\n",
      "    If ``high`` < ``low``, the results are officially undefined\n",
      "    and may eventually raise an error, i.e. do not rely on this\n",
      "    function to behave when passed arguments satisfying that\n",
      "    inequality condition. The ``high`` limit may be included in the\n",
      "    returned array of floats due to floating-point rounding in the\n",
      "    equation ``low + (high-low) * random_sample()``. For example:\n",
      "    \n",
      "    >>> x = np.float32(5*0.99999999)\n",
      "    >>> x\n",
      "    5.0\n",
      "    \n",
      "    \n",
      "    Examples\n",
      "    --------\n",
      "    Draw samples from the distribution:\n",
      "    \n",
      "    >>> s = np.random.uniform(-1,0,1000)\n",
      "    \n",
      "    All values are within the given interval:\n",
      "    \n",
      "    >>> np.all(s >= -1)\n",
      "    True\n",
      "    >>> np.all(s < 0)\n",
      "    True\n",
      "    \n",
      "    Display the histogram of the samples, along with the\n",
      "    probability density function:\n",
      "    \n",
      "    >>> import matplotlib.pyplot as plt\n",
      "    >>> count, bins, ignored = plt.hist(s, 15, density=True)\n",
      "    >>> plt.plot(bins, np.ones_like(bins), linewidth=2, color='r')\n",
      "    >>> plt.show()\n",
      "\n"
     ]
    }
   ],
   "source": [
    "help(np.random.uniform)"
   ]
  },
  {
   "cell_type": "markdown",
   "metadata": {
    "colab_type": "text",
    "id": "aKCQs6kZIsRC"
   },
   "source": [
    "#### What is the value and shape of y?"
   ]
  },
  {
   "cell_type": "code",
   "execution_count": 17,
   "metadata": {
    "colab": {},
    "colab_type": "code",
    "id": "WAkm_b74JDHu"
   },
   "outputs": [
    {
     "name": "stdout",
     "output_type": "stream",
     "text": [
      "[4. 5. 3. 0. 1.]\n",
      "(5,)\n"
     ]
    }
   ],
   "source": [
    "y = np.zeros(5)       \n",
    "roll_idx = np.array(range(5))\n",
    "y[roll_idx] = np.floor(np.random.uniform(0,6, roll_idx.shape))\n",
    "print(y)\n",
    "print(y.shape)"
   ]
  },
  {
   "cell_type": "code",
   "execution_count": 29,
   "metadata": {
    "colab": {},
    "colab_type": "code",
    "id": "5gNLxBvRKq9P"
   },
   "outputs": [
    {
     "name": "stdout",
     "output_type": "stream",
     "text": [
      "[[2.]\n",
      " [4.]\n",
      " [5.]\n",
      " [4.]\n",
      " [1.]]\n",
      "(5, 1)\n"
     ]
    }
   ],
   "source": [
    "y = np.zeros((5,1))       \n",
    "roll_idx = np.array(range(5))\n",
    "# note the need for a second index, since y is now a 2D array!\n",
    "y[roll_idx, 0] = np.floor(np.random.uniform(0,6, roll_idx.shape))\n",
    "print(y)\n",
    "print(y.shape)"
   ]
  },
  {
   "cell_type": "code",
   "execution_count": 30,
   "metadata": {
    "colab": {},
    "colab_type": "code",
    "id": "t1PSQlx1MltF"
   },
   "outputs": [
    {
     "name": "stdout",
     "output_type": "stream",
     "text": [
      "[[0. 5. 0. 0. 5.]\n",
      " [0. 5. 0. 0. 5.]\n",
      " [0. 5. 0. 0. 5.]\n",
      " [0. 5. 0. 0. 5.]\n",
      " [0. 5. 0. 0. 5.]]\n",
      "(5, 5)\n"
     ]
    }
   ],
   "source": [
    "y = np.zeros((5,5))       \n",
    "roll_idx = np.array(range(5))\n",
    "# : is shorthand for selecting all indices along an axis. More on indexing later\n",
    "# What happens if we run y[:, roll_idx] instead?\n",
    "y[roll_idx, :] = np.floor(np.random.uniform(0,6, roll_idx.shape))\n",
    "print(y)\n",
    "print(y.shape)"
   ]
  },
  {
   "cell_type": "markdown",
   "metadata": {
    "colab_type": "text",
    "id": "UolGS4qzZNoe"
   },
   "source": [
    "### Re-rolling"
   ]
  },
  {
   "cell_type": "markdown",
   "metadata": {
    "colab_type": "text",
    "id": "8N7ejrAGZ028"
   },
   "source": [
    "#### Random number generation\n",
    "```python\n",
    "np.random.seed(0)\n",
    "```\n",
    "\n",
    "---\n",
    "\n",
    "- `np.random.seed(0)` sets the seed of the Numpy's random number generator to 0, ensuring that subsequent calls to `np.random` functions are reproducible\n",
    "  - note that any `int`, not just 0, will work as a reproducible seed"
   ]
  },
  {
   "cell_type": "code",
   "execution_count": 31,
   "metadata": {
    "colab": {
     "base_uri": "https://localhost:8080/",
     "height": 35
    },
    "colab_type": "code",
    "id": "z7EvAUxXZO5L",
    "outputId": "7f655f3b-2bd4-4fb5-a310-97cf569f04b6"
   },
   "outputs": [
    {
     "name": "stdout",
     "output_type": "stream",
     "text": [
      "[3. 4. 3. 3. 2.]\n"
     ]
    }
   ],
   "source": [
    "# Here we're using the random seed to make sure our first roll is reproducible\n",
    "np.random.seed(0)\n",
    "y = np.zeros(5)       \n",
    "roll_idx = np.array(range(5))\n",
    "y[roll_idx] = np.floor(np.random.uniform(0,6, roll_idx.shape))\n",
    "print(y)"
   ]
  },
  {
   "cell_type": "markdown",
   "metadata": {
    "colab_type": "text",
    "id": "JbJLraMAakrk"
   },
   "source": [
    "- 3 is the most common, so we want to re-roll indices 1 and 4"
   ]
  },
  {
   "cell_type": "markdown",
   "metadata": {
    "colab_type": "text",
    "id": "A6sRQgncdWsa"
   },
   "source": [
    "#### How do we get the indices to re-roll?"
   ]
  },
  {
   "cell_type": "code",
   "execution_count": 18,
   "metadata": {
    "colab": {
     "base_uri": "https://localhost:8080/",
     "height": 35
    },
    "colab_type": "code",
    "id": "89OQPeMuciO5",
    "outputId": "e69b4f21-f35e-4f9d-e873-80170edf38e7"
   },
   "outputs": [
    {
     "data": {
      "text/plain": [
       "array([ True,  True, False,  True,  True])"
      ]
     },
     "execution_count": 18,
     "metadata": {},
     "output_type": "execute_result"
    }
   ],
   "source": [
    "# check which entries of y aren't 3 \n",
    "y != 3"
   ]
  },
  {
   "cell_type": "code",
   "execution_count": 33,
   "metadata": {
    "colab": {
     "base_uri": "https://localhost:8080/",
     "height": 35
    },
    "colab_type": "code",
    "id": "YxLH3YWVdn5G",
    "outputId": "8f95baf8-7145-4f92-a006-761687bec8bf"
   },
   "outputs": [
    {
     "data": {
      "text/plain": [
       "(array([1, 4]),)"
      ]
     },
     "execution_count": 33,
     "metadata": {},
     "output_type": "execute_result"
    }
   ],
   "source": [
    "# return the indices that are \"True\" -- interpreted as non-zero by Numpy\n",
    "# note the return shape! np.nonzero returns a tuple of arrays, one for each axis\n",
    "np.nonzero(y != 3)"
   ]
  },
  {
   "cell_type": "code",
   "execution_count": 34,
   "metadata": {
    "colab": {
     "base_uri": "https://localhost:8080/",
     "height": 35
    },
    "colab_type": "code",
    "id": "T6Oq9g3rfWaT",
    "outputId": "4bbcc9c1-34ac-454d-f93d-228e4c3c124e"
   },
   "outputs": [
    {
     "name": "stdout",
     "output_type": "stream",
     "text": [
      "[1 4]\n"
     ]
    }
   ],
   "source": [
    "# assign the new roll_idx\n",
    "roll_idx = np.nonzero(y != 3)[0]\n",
    "print(roll_idx)"
   ]
  },
  {
   "cell_type": "markdown",
   "metadata": {
    "colab_type": "text",
    "id": "xp4ODaGQgBrE"
   },
   "source": [
    "#### The general re-roll case\n"
   ]
  },
  {
   "cell_type": "code",
   "execution_count": 36,
   "metadata": {
    "colab": {
     "base_uri": "https://localhost:8080/",
     "height": 35
    },
    "colab_type": "code",
    "id": "M6n1rIXog94x",
    "outputId": "cd4f5e41-3fb6-4829-82da-02a429a60b9f"
   },
   "outputs": [
    {
     "name": "stdout",
     "output_type": "stream",
     "text": [
      "[0, 0, 1, 3, 1, 0]\n"
     ]
    }
   ],
   "source": [
    "# count the number of dice we've rolled for each number\n",
    "counts = [sum(y == i) for i in range(6)]\n",
    "print(counts)"
   ]
  },
  {
   "cell_type": "code",
   "execution_count": 37,
   "metadata": {
    "colab": {
     "base_uri": "https://localhost:8080/",
     "height": 35
    },
    "colab_type": "code",
    "id": "aGxLQAa4hL_s",
    "outputId": "4d358ab0-fbbd-44e0-d4b3-6f54e0966654"
   },
   "outputs": [
    {
     "name": "stdout",
     "output_type": "stream",
     "text": [
      "3\n"
     ]
    }
   ],
   "source": [
    "# Find the idx of the most common roll\n",
    "max_idx = np.argmax(counts)\n",
    "print(max_idx)"
   ]
  },
  {
   "cell_type": "code",
   "execution_count": 38,
   "metadata": {
    "colab": {
     "base_uri": "https://localhost:8080/",
     "height": 35
    },
    "colab_type": "code",
    "id": "-H5cVmBhh2fN",
    "outputId": "1499defb-9090-4938-c096-002cf0538130"
   },
   "outputs": [
    {
     "name": "stdout",
     "output_type": "stream",
     "text": [
      "[1 4]\n"
     ]
    }
   ],
   "source": [
    "# update the indices to re-roll accordingly\n",
    "roll_idx = np.nonzero(y != max_idx)[0]    \n",
    "print(roll_idx)"
   ]
  },
  {
   "cell_type": "markdown",
   "metadata": {
    "colab_type": "text",
    "id": "zQitGbIOiYXP"
   },
   "source": [
    "### Putting it all together"
   ]
  },
  {
   "cell_type": "code",
   "execution_count": 42,
   "metadata": {
    "colab": {},
    "colab_type": "code",
    "id": "zzdvu2Q8ibEo"
   },
   "outputs": [],
   "source": [
    "def yamslam():\n",
    "    \"\"\"Plays one round of yamslam, re-rolling 5 dice up to 3 times.\n",
    "  \n",
    "  Also prints exuberantly if we do get a yamslam.\n",
    "  \n",
    "  Returns:\n",
    "    int: 1 if we got a yamslam, 0 if not\n",
    "      \"\"\"\n",
    "    y = np.zeros(5)       \n",
    "    roll_idx = np.array(range(5))\n",
    "    for reroll in range(3): # 3 rerolls\n",
    "        y[roll_idx] = np.floor(np.random.uniform(0,6,roll_idx.shape))\n",
    "        counts = [sum(y == i) for i in range(6)]\n",
    "        max_idx = np.argmax(counts)\n",
    "\n",
    "    if np.max(counts) == 5:\n",
    "        print('YAMSLAM!')\n",
    "        return 1\n",
    "    \n",
    "    roll_idx = np.nonzero(y != max_idx)[0]  \n",
    "    \n",
    "  # we've run all 3 re-rolls but still didn't get a yamslam\n",
    "    return 0      "
   ]
  },
  {
   "cell_type": "markdown",
   "metadata": {
    "colab_type": "text",
    "id": "nXqnulr7HPwQ"
   },
   "source": [
    "#### Running multiple trials"
   ]
  },
  {
   "cell_type": "code",
   "execution_count": 43,
   "metadata": {
    "colab": {
     "base_uri": "https://localhost:8080/",
     "height": 145
    },
    "colab_type": "code",
    "id": "dlOCYgYHjm37",
    "outputId": "74732f07-346c-448b-86bc-f38e2df19104"
   },
   "outputs": [
    {
     "name": "stdout",
     "output_type": "stream",
     "text": [
      "Probability of yamslam: 0.0\n",
      "CPU times: user 162 ms, sys: 8.1 ms, total: 170 ms\n",
      "Wall time: 300 ms\n"
     ]
    }
   ],
   "source": [
    "%%time\n",
    "\n",
    "yamslam_trials = []\n",
    "for i in range(100):\n",
    "    yamslam_trials.append(yamslam())\n",
    "    \n",
    "print(\"Probability of yamslam: {}\".format(np.mean(yamslam_trials)))"
   ]
  },
  {
   "cell_type": "markdown",
   "metadata": {
    "colab_type": "text",
    "id": "8h3sk1fCKT9A"
   },
   "source": [
    "#### Improving the code\n",
    "\n",
    "```python\n",
    "counts = [sum(y == i) for i in range(6)]\n",
    "max_idx = np.argmax(counts)\n",
    "```\n",
    "\n",
    "---\n",
    "\n",
    "- `np.bincounts` produces the same result for `count` as our list comprehension\n",
    "\n",
    "- More importantly, what is the above code effectively calculating?"
   ]
  },
  {
   "cell_type": "code",
   "execution_count": 19,
   "metadata": {
    "colab": {},
    "colab_type": "code",
    "id": "6PWxgtwDK9jt"
   },
   "outputs": [],
   "source": [
    "# We're calculating the mode!\n",
    "from scipy.stats import mode\n",
    "\n",
    "np.random.seed(0)\n",
    "y = np.zeros(5)       \n",
    "roll_idx = np.array(range(5))\n",
    "y[roll_idx] = np.floor(np.random.uniform(0,6, roll_idx.shape))\n",
    "roll_idx = np.nonzero(y != mode(y)[0])[0]  "
   ]
  },
  {
   "cell_type": "markdown",
   "metadata": {
    "colab_type": "text",
    "id": "yM6HdUKGbk0u"
   },
   "source": [
    "*Tip: before implementing a mathematical operation, check the documentation to see if it's already part of the library -- chances are, it is.*"
   ]
  },
  {
   "cell_type": "markdown",
   "metadata": {
    "colab_type": "text",
    "id": "AsZCm8iMRCQn"
   },
   "source": [
    "## Working with Arrays"
   ]
  },
  {
   "cell_type": "markdown",
   "metadata": {
    "colab_type": "text",
    "id": "E6ZklmXKUZml"
   },
   "source": [
    "### Vectorization\n",
    "\n",
    "- before writing a loop, consider if the operation can be *vectorized*\n",
    "- vectorization is the application of an operation over an entire array, instead of element by element\n",
    "- Results in more concise code, and many vectorized implementations of functions are optimized"
   ]
  },
  {
   "cell_type": "code",
   "execution_count": 20,
   "metadata": {
    "colab": {
     "base_uri": "https://localhost:8080/",
     "height": 35
    },
    "colab_type": "code",
    "id": "YiQUYih_HrBQ",
    "outputId": "b5445dd8-d195-4eb2-8f01-ee5abc1009bd"
   },
   "outputs": [
    {
     "name": "stdout",
     "output_type": "stream",
     "text": [
      "14.7 ms ± 5.81 ms per loop (mean ± std. dev. of 7 runs, 100 loops each)\n"
     ]
    }
   ],
   "source": [
    "%%timeit\n",
    "\n",
    "# Don't do this!!\n",
    "vec = np.array(range(10000))\n",
    "sum_v = 0\n",
    "for i in range(10000):\n",
    "    sum_v += vec[i]"
   ]
  },
  {
   "cell_type": "code",
   "execution_count": 21,
   "metadata": {
    "colab": {
     "base_uri": "https://localhost:8080/",
     "height": 35
    },
    "colab_type": "code",
    "id": "ub-efOtIQ0Hw",
    "outputId": "51f11ea2-341f-460d-df5e-685e98e7fcfc"
   },
   "outputs": [
    {
     "name": "stdout",
     "output_type": "stream",
     "text": [
      "4.73 ms ± 1.42 ms per loop (mean ± std. dev. of 7 runs, 100 loops each)\n"
     ]
    }
   ],
   "source": [
    "%%timeit\n",
    "\n",
    "# Vectorize instead\n",
    "vec = np.array(range(10000))\n",
    "sum_v = np.sum(vec)"
   ]
  },
  {
   "cell_type": "markdown",
   "metadata": {
    "colab_type": "text",
    "id": "P_fwPXc2YlhI"
   },
   "source": [
    "#### Watch the axes\n",
    "\n",
    "- What is the behavior of  `np.sum()` if our array has more than one dimension?\n",
    "- Use the `axis` argument: specifies which axis to sum along\n",
    "- Many other vectorized functions take the axis argument, so keep in mind which dimension you want the operation applied to"
   ]
  },
  {
   "cell_type": "code",
   "execution_count": null,
   "metadata": {
    "colab": {},
    "colab_type": "code",
    "id": "mimyqZlXZAeU"
   },
   "outputs": [],
   "source": [
    "A = np.array([[1,2,3], [4,5,6], [7,8,9]])\n",
    "print(A)\n",
    "print(A.shape)"
   ]
  },
  {
   "cell_type": "code",
   "execution_count": null,
   "metadata": {
    "colab": {},
    "colab_type": "code",
    "id": "Qfiv6uMXZ37b"
   },
   "outputs": [],
   "source": [
    "# By default, axis=None and np.sum will sum all elements of the array\n",
    "print(np.sum(A))"
   ]
  },
  {
   "cell_type": "code",
   "execution_count": null,
   "metadata": {
    "colab": {},
    "colab_type": "code",
    "id": "j4_Z0eaW54lO"
   },
   "outputs": [],
   "source": [
    "# axis=0 sums along rows, producing column totals\n",
    "print(np.sum(A, axis=0))"
   ]
  },
  {
   "cell_type": "code",
   "execution_count": null,
   "metadata": {
    "colab": {},
    "colab_type": "code",
    "id": "iNz43b8f55nj"
   },
   "outputs": [],
   "source": [
    "# axis=0 sums along columns, producing row totals\n",
    "print(np.sum(A, axis=1))"
   ]
  },
  {
   "cell_type": "markdown",
   "metadata": {
    "colab_type": "text",
    "id": "79785kJ1cP1Z"
   },
   "source": [
    "- vectorization doesn't always work -- post to Piazza or come to office hours if you have questions!"
   ]
  },
  {
   "cell_type": "markdown",
   "metadata": {
    "colab_type": "text",
    "id": "SNYwdwZfbu3A"
   },
   "source": [
    "### Indexing"
   ]
  },
  {
   "cell_type": "markdown",
   "metadata": {
    "colab_type": "text",
    "id": "ABrS3lThcuYe"
   },
   "source": [
    "#### Slicing\n",
    "\n",
    "- the standard rules of slicing and indexing from Python apply to Numpy arrays\n",
    "- `i:j:k` syntax corresponds to starting at index `i`, ending at index `j` with step size `k`\n",
    "  - omitting `k` implies a step size of 1\n",
    "- `i:` selects all indices beginning at index `i`\n",
    "- `:j` selects all indices up to but not including index `j`\n",
    "- `:` by itself selects all indices along an axis"
   ]
  },
  {
   "cell_type": "code",
   "execution_count": null,
   "metadata": {
    "colab": {},
    "colab_type": "code",
    "id": "xn5sfm4NdzIr"
   },
   "outputs": [],
   "source": [
    "# start with list of 0 to 9\n",
    "vec = np.array(range(10))\n",
    "print(vec)"
   ]
  },
  {
   "cell_type": "code",
   "execution_count": null,
   "metadata": {
    "colab": {},
    "colab_type": "code",
    "id": "oM5x5NW95lEk"
   },
   "outputs": [],
   "source": [
    "# selects indices 2,3,4 (not including 5)\n",
    "print(vec[2:5])"
   ]
  },
  {
   "cell_type": "code",
   "execution_count": null,
   "metadata": {
    "colab": {},
    "colab_type": "code",
    "id": "Ah19Gxr65mxP"
   },
   "outputs": [],
   "source": [
    "# selects indices 2,4,6\n",
    "print(vec[2:7:2])"
   ]
  },
  {
   "cell_type": "code",
   "execution_count": null,
   "metadata": {
    "colab": {},
    "colab_type": "code",
    "id": "JOIMr8o35pYz"
   },
   "outputs": [],
   "source": [
    "# selects indices starting with 5 to the end\n",
    "print(vec[5:])"
   ]
  },
  {
   "cell_type": "code",
   "execution_count": null,
   "metadata": {
    "colab": {},
    "colab_type": "code",
    "id": "EOoZgXKX5rCv"
   },
   "outputs": [],
   "source": [
    "# selects indices up to, but not including, index 5\n",
    "print(vec[:5])"
   ]
  },
  {
   "cell_type": "code",
   "execution_count": null,
   "metadata": {
    "colab": {},
    "colab_type": "code",
    "id": "ZJLwfTtD5sJG"
   },
   "outputs": [],
   "source": [
    "# select everything, since vec is a 1D array\n",
    "print(vec[:])"
   ]
  },
  {
   "cell_type": "code",
   "execution_count": null,
   "metadata": {
    "colab": {},
    "colab_type": "code",
    "id": "R_5EMjlhe5Ch"
   },
   "outputs": [],
   "source": [
    "# same idea with 2D arrays, but with two axes\n",
    "A = np.array([[1,2,3], [4,5,6], [7,8,9]])\n",
    "print(A)"
   ]
  },
  {
   "cell_type": "code",
   "execution_count": null,
   "metadata": {
    "colab": {},
    "colab_type": "code",
    "id": "SzvOzYHe5xj3"
   },
   "outputs": [],
   "source": [
    "# select the element in the 0-index row and 1-index column\n",
    "print(A[0,1])"
   ]
  },
  {
   "cell_type": "code",
   "execution_count": null,
   "metadata": {
    "colab": {},
    "colab_type": "code",
    "id": "3QOOtP7t5zRA"
   },
   "outputs": [],
   "source": [
    "# select the 0-index column\n",
    "print(A[:, 0])"
   ]
  },
  {
   "cell_type": "code",
   "execution_count": null,
   "metadata": {
    "colab": {},
    "colab_type": "code",
    "id": "B_Qkt7mw50Jk"
   },
   "outputs": [],
   "source": [
    "# select the first two rows\n",
    "print(A[:2, :])"
   ]
  },
  {
   "cell_type": "code",
   "execution_count": null,
   "metadata": {
    "colab": {},
    "colab_type": "code",
    "id": "xTK4-FtJ504v"
   },
   "outputs": [],
   "source": [
    "# select the last two columns of the last two rows\n",
    "print(A[1:, 1:])"
   ]
  },
  {
   "cell_type": "markdown",
   "metadata": {
    "colab_type": "text",
    "id": "oUZ7wxbkZmTz"
   },
   "source": [
    "#### Logical Indexing\n",
    "\n",
    "- we can select according to boolean conditions across axes as well"
   ]
  },
  {
   "cell_type": "code",
   "execution_count": null,
   "metadata": {
    "colab": {},
    "colab_type": "code",
    "id": "PN58rgWNZkNX"
   },
   "outputs": [],
   "source": [
    "%%timeit\n",
    "\n",
    "np.random.seed(0)\n",
    "num_animals = 100000\n",
    "animal_weights = np.random.uniform(0, 50, num_animals)\n",
    "\n",
    "# Don't do this!!\n",
    "is_dog = np.zeros(num_animals)\n",
    "is_cat = np.zeros(num_animals)\n",
    "\n",
    "for i in range(num_animals):\n",
    "  if animal_weights[i] > 30:\n",
    "    is_dog[i] = 1\n",
    "  else:\n",
    "    is_cat[i] = 1"
   ]
  },
  {
   "cell_type": "code",
   "execution_count": null,
   "metadata": {
    "colab": {},
    "colab_type": "code",
    "id": "ONgVXnf1b_hK"
   },
   "outputs": [],
   "source": [
    "%%timeit\n",
    "\n",
    "np.random.seed(0)\n",
    "num_animals = 100000\n",
    "animal_weights = np.random.uniform(0, 50, num_animals)\n",
    "\n",
    "# Use logical indexing instead, see the speed difference\n",
    "is_dog = animal_weights > 30\n",
    "is_cat = animal_weights <= 30"
   ]
  },
  {
   "cell_type": "code",
   "execution_count": null,
   "metadata": {
    "colab": {},
    "colab_type": "code",
    "id": "Pv_6QnEF42Ha"
   },
   "outputs": [],
   "source": [
    "np.random.seed(0)\n",
    "num_animals = 100000\n",
    "animal_weights = np.random.uniform(0, 50, num_animals)\n",
    "\n",
    "# Use logical indexing for conditional selections\n",
    "dog_weights = animal_weights[animal_weights > 30]\n",
    "cat_weights = animal_weights[animal_weights <= 30]"
   ]
  }
 ],
 "metadata": {
  "colab": {
   "collapsed_sections": [],
   "name": "python_intro.ipynb",
   "provenance": [],
   "toc_visible": true
  },
  "kernelspec": {
   "display_name": "Python 3",
   "language": "python",
   "name": "python3"
  },
  "language_info": {
   "codemirror_mode": {
    "name": "ipython",
    "version": 3
   },
   "file_extension": ".py",
   "mimetype": "text/x-python",
   "name": "python",
   "nbconvert_exporter": "python",
   "pygments_lexer": "ipython3",
   "version": "3.7.7"
  }
 },
 "nbformat": 4,
 "nbformat_minor": 4
}
