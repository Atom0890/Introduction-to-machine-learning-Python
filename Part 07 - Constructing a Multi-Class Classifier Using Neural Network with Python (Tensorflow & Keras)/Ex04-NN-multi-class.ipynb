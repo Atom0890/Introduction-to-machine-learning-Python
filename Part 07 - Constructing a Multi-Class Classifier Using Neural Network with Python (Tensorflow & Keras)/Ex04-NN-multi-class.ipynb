{
 "cells": [
  {
   "cell_type": "markdown",
   "metadata": {},
   "source": [
    "# Deep Learning Tutorial.\n",
    "## Multi-Class Classification with Tensorflow and Keras Deep Learning Libraries\n",
    "### 1. Construct a multi-layer neural network model.\n",
    "### 2. Tune the hyper-parameters for training a model.\n",
    "### 3. Evaluate a model.\n"
   ]
  },
  {
   "cell_type": "markdown",
   "metadata": {},
   "source": [
    "# Iris Dataset\n",
    "## https://archive.ics.uci.edu/ml/datasets/iris\n",
    "# Fields description follow:\n",
    "## 1. sepal length in cm\n",
    "## 2. sepal width in cm\n",
    "## 3. petal length in cm\n",
    "## 4. petal width in cm\n",
    "## 5. class:\n",
    "## -- Iris Setosa\n",
    "## -- Iris Versicolour\n",
    "## -- Iris Virginica\n",
    "\n"
   ]
  },
  {
   "cell_type": "markdown",
   "metadata": {},
   "source": [
    "# Install the following:\n",
    "## pip install tensorflow==2.0.0\n",
    "\n",
    "\n"
   ]
  },
  {
   "cell_type": "markdown",
   "metadata": {},
   "source": [
    "# Download the data and then convert it to pandas dataframe to analyze it."
   ]
  },
  {
   "cell_type": "code",
   "execution_count": 1,
   "metadata": {},
   "outputs": [],
   "source": [
    "# Tensorflow and Keras are two packages for creating neural network models.\n",
    "import tensorflow as tf\n",
    "from tensorflow import keras\n",
    "from sklearn.model_selection import train_test_split\n",
    "\n",
    "# import NN layers and other componenets.\n",
    "from tensorflow.keras.models import Sequential\n",
    "from tensorflow.keras.layers import Activation, Dense, BatchNormalization, Dropout\n",
    "from tensorflow.keras import optimizers\n",
    "import matplotlib.pyplot as plt # for plotting data and creating different charts.\n",
    "import numpy as np # for math and arrays\n",
    "import pandas as pd # data from for the data.\n",
    "import seaborn as sns # for plotting."
   ]
  },
  {
   "cell_type": "code",
   "execution_count": 2,
   "metadata": {},
   "outputs": [],
   "source": [
    "tf.random.set_seed(13) # to make sure the experiment is reproducible.\n",
    "tf.debugging.set_log_device_placement(False)"
   ]
  },
  {
   "cell_type": "code",
   "execution_count": 3,
   "metadata": {},
   "outputs": [
    {
     "data": {
      "text/html": [
       "<div>\n",
       "<style scoped>\n",
       "    .dataframe tbody tr th:only-of-type {\n",
       "        vertical-align: middle;\n",
       "    }\n",
       "\n",
       "    .dataframe tbody tr th {\n",
       "        vertical-align: top;\n",
       "    }\n",
       "\n",
       "    .dataframe thead th {\n",
       "        text-align: right;\n",
       "    }\n",
       "</style>\n",
       "<table border=\"1\" class=\"dataframe\">\n",
       "  <thead>\n",
       "    <tr style=\"text-align: right;\">\n",
       "      <th></th>\n",
       "      <th>sepal length (cm)</th>\n",
       "      <th>sepal width (cm)</th>\n",
       "      <th>petal length (cm)</th>\n",
       "      <th>petal width (cm)</th>\n",
       "      <th>target</th>\n",
       "    </tr>\n",
       "  </thead>\n",
       "  <tbody>\n",
       "    <tr>\n",
       "      <th>0</th>\n",
       "      <td>5.1</td>\n",
       "      <td>3.5</td>\n",
       "      <td>1.4</td>\n",
       "      <td>0.2</td>\n",
       "      <td>0.0</td>\n",
       "    </tr>\n",
       "    <tr>\n",
       "      <th>1</th>\n",
       "      <td>4.9</td>\n",
       "      <td>3.0</td>\n",
       "      <td>1.4</td>\n",
       "      <td>0.2</td>\n",
       "      <td>0.0</td>\n",
       "    </tr>\n",
       "    <tr>\n",
       "      <th>2</th>\n",
       "      <td>4.7</td>\n",
       "      <td>3.2</td>\n",
       "      <td>1.3</td>\n",
       "      <td>0.2</td>\n",
       "      <td>0.0</td>\n",
       "    </tr>\n",
       "    <tr>\n",
       "      <th>3</th>\n",
       "      <td>4.6</td>\n",
       "      <td>3.1</td>\n",
       "      <td>1.5</td>\n",
       "      <td>0.2</td>\n",
       "      <td>0.0</td>\n",
       "    </tr>\n",
       "    <tr>\n",
       "      <th>4</th>\n",
       "      <td>5.0</td>\n",
       "      <td>3.6</td>\n",
       "      <td>1.4</td>\n",
       "      <td>0.2</td>\n",
       "      <td>0.0</td>\n",
       "    </tr>\n",
       "    <tr>\n",
       "      <th>...</th>\n",
       "      <td>...</td>\n",
       "      <td>...</td>\n",
       "      <td>...</td>\n",
       "      <td>...</td>\n",
       "      <td>...</td>\n",
       "    </tr>\n",
       "    <tr>\n",
       "      <th>145</th>\n",
       "      <td>6.7</td>\n",
       "      <td>3.0</td>\n",
       "      <td>5.2</td>\n",
       "      <td>2.3</td>\n",
       "      <td>2.0</td>\n",
       "    </tr>\n",
       "    <tr>\n",
       "      <th>146</th>\n",
       "      <td>6.3</td>\n",
       "      <td>2.5</td>\n",
       "      <td>5.0</td>\n",
       "      <td>1.9</td>\n",
       "      <td>2.0</td>\n",
       "    </tr>\n",
       "    <tr>\n",
       "      <th>147</th>\n",
       "      <td>6.5</td>\n",
       "      <td>3.0</td>\n",
       "      <td>5.2</td>\n",
       "      <td>2.0</td>\n",
       "      <td>2.0</td>\n",
       "    </tr>\n",
       "    <tr>\n",
       "      <th>148</th>\n",
       "      <td>6.2</td>\n",
       "      <td>3.4</td>\n",
       "      <td>5.4</td>\n",
       "      <td>2.3</td>\n",
       "      <td>2.0</td>\n",
       "    </tr>\n",
       "    <tr>\n",
       "      <th>149</th>\n",
       "      <td>5.9</td>\n",
       "      <td>3.0</td>\n",
       "      <td>5.1</td>\n",
       "      <td>1.8</td>\n",
       "      <td>2.0</td>\n",
       "    </tr>\n",
       "  </tbody>\n",
       "</table>\n",
       "<p>150 rows × 5 columns</p>\n",
       "</div>"
      ],
      "text/plain": [
       "     sepal length (cm)  sepal width (cm)  petal length (cm)  petal width (cm)  \\\n",
       "0                  5.1               3.5                1.4               0.2   \n",
       "1                  4.9               3.0                1.4               0.2   \n",
       "2                  4.7               3.2                1.3               0.2   \n",
       "3                  4.6               3.1                1.5               0.2   \n",
       "4                  5.0               3.6                1.4               0.2   \n",
       "..                 ...               ...                ...               ...   \n",
       "145                6.7               3.0                5.2               2.3   \n",
       "146                6.3               2.5                5.0               1.9   \n",
       "147                6.5               3.0                5.2               2.0   \n",
       "148                6.2               3.4                5.4               2.3   \n",
       "149                5.9               3.0                5.1               1.8   \n",
       "\n",
       "     target  \n",
       "0       0.0  \n",
       "1       0.0  \n",
       "2       0.0  \n",
       "3       0.0  \n",
       "4       0.0  \n",
       "..      ...  \n",
       "145     2.0  \n",
       "146     2.0  \n",
       "147     2.0  \n",
       "148     2.0  \n",
       "149     2.0  \n",
       "\n",
       "[150 rows x 5 columns]"
      ]
     },
     "execution_count": 3,
     "metadata": {},
     "output_type": "execute_result"
    }
   ],
   "source": [
    "all_ds = pd.read_csv('iris_dataset.csv')\n",
    "\n",
    "all_ds"
   ]
  },
  {
   "cell_type": "code",
   "execution_count": 4,
   "metadata": {},
   "outputs": [
    {
     "name": "stdout",
     "output_type": "stream",
     "text": [
      "Number of rows/examples and columns in the dataset: (150, 5)\n"
     ]
    }
   ],
   "source": [
    "print(f'Number of rows/examples and columns in the dataset: {all_ds.shape}')"
   ]
  },
  {
   "cell_type": "code",
   "execution_count": 5,
   "metadata": {},
   "outputs": [
    {
     "name": "stdout",
     "output_type": "stream",
     "text": [
      "<class 'pandas.core.frame.DataFrame'>\n",
      "RangeIndex: 150 entries, 0 to 149\n",
      "Data columns (total 5 columns):\n",
      " #   Column             Non-Null Count  Dtype  \n",
      "---  ------             --------------  -----  \n",
      " 0   sepal length (cm)  150 non-null    float64\n",
      " 1   sepal width (cm)   150 non-null    float64\n",
      " 2   petal length (cm)  150 non-null    float64\n",
      " 3   petal width (cm)   150 non-null    float64\n",
      " 4   target             150 non-null    float64\n",
      "dtypes: float64(5)\n",
      "memory usage: 6.0 KB\n"
     ]
    }
   ],
   "source": [
    "# Summary of information on the dataset.\n",
    "all_ds.info()"
   ]
  },
  {
   "cell_type": "markdown",
   "metadata": {},
   "source": [
    "# Cleaning the data."
   ]
  },
  {
   "cell_type": "code",
   "execution_count": 6,
   "metadata": {},
   "outputs": [
    {
     "name": "stdout",
     "output_type": "stream",
     "text": [
      "Display NA values in each columns: \n"
     ]
    },
    {
     "data": {
      "text/plain": [
       "sepal length (cm)    0\n",
       "sepal width (cm)     0\n",
       "petal length (cm)    0\n",
       "petal width (cm)     0\n",
       "target               0\n",
       "dtype: int64"
      ]
     },
     "execution_count": 6,
     "metadata": {},
     "output_type": "execute_result"
    }
   ],
   "source": [
    "print(\"Display NA values in each columns: \")\n",
    "all_ds.isna().sum(axis=0)"
   ]
  },
  {
   "cell_type": "code",
   "execution_count": 8,
   "metadata": {},
   "outputs": [
    {
     "name": "stdout",
     "output_type": "stream",
     "text": [
      "Display NULL values in each columns: \n"
     ]
    },
    {
     "data": {
      "text/plain": [
       "sepal length (cm)    0\n",
       "sepal width (cm)     0\n",
       "petal length (cm)    0\n",
       "petal width (cm)     0\n",
       "target               0\n",
       "dtype: int64"
      ]
     },
     "execution_count": 8,
     "metadata": {},
     "output_type": "execute_result"
    }
   ],
   "source": [
    "print(\"Display NULL values in each columns: \")\n",
    "all_ds.isnull().sum()"
   ]
  },
  {
   "cell_type": "code",
   "execution_count": 10,
   "metadata": {},
   "outputs": [],
   "source": [
    "# Remove the rows with NA values.\n",
    "all_ds = all_ds.dropna()\n",
    "\n",
    "# You can also use the following line to fill the NA with Zeros.\n",
    "# all_ds = all_ds.fillna(0)\n",
    "# all_ds = all_ds.fillna(mean_of_column)\n",
    "\n"
   ]
  },
  {
   "cell_type": "code",
   "execution_count": 11,
   "metadata": {},
   "outputs": [],
   "source": [
    "all_ds = all_ds.sample(frac=1) # This will randomly shuffle the rows to make sure the data is not sorted. (if the data is sorted then we may end up with test dataset from one or two classes only)\n"
   ]
  },
  {
   "cell_type": "markdown",
   "metadata": {},
   "source": [
    "# Split the data into train/test splits."
   ]
  },
  {
   "cell_type": "code",
   "execution_count": 12,
   "metadata": {},
   "outputs": [
    {
     "name": "stdout",
     "output_type": "stream",
     "text": [
      "(120, 5)\n",
      "(30, 5)\n"
     ]
    }
   ],
   "source": [
    "# Split the data into 60% train and 40% test (later will divide the test to test and validate.)\n",
    "train_dataset, temp_test_dataset =  train_test_split(all_ds, test_size=0.2)\n",
    "\n",
    "print( train_dataset.shape )\n",
    "print( temp_test_dataset.shape )"
   ]
  },
  {
   "cell_type": "code",
   "execution_count": 13,
   "metadata": {},
   "outputs": [
    {
     "name": "stdout",
     "output_type": "stream",
     "text": [
      "(15, 5)\n",
      "(15, 5)\n"
     ]
    }
   ],
   "source": [
    "# Split the test_dataset dataframe to 50% test and 50% validation. [this will divide the dataset into 60% train, 20% validate, and 20% test]\n",
    "test_dataset, valid_dataset =  train_test_split(temp_test_dataset, test_size=0.5)\n",
    "print( test_dataset.shape )\n",
    "print( valid_dataset.shape )"
   ]
  },
  {
   "cell_type": "code",
   "execution_count": 14,
   "metadata": {},
   "outputs": [
    {
     "name": "stdout",
     "output_type": "stream",
     "text": [
      "Display the datatype of the test_dataset: <class 'pandas.core.frame.DataFrame'>\n",
      " Trai dataset       : (120, 5)\n",
      " Test dataset       : (15, 5)\n",
      " Validation dataset : (15, 5)\n"
     ]
    }
   ],
   "source": [
    "print(f\"Display the datatype of the test_dataset: {type(test_dataset)}\")\n",
    "print(f\" Trai dataset       : {train_dataset.shape}\")\n",
    "print(f\" Test dataset       : {test_dataset.shape}\")\n",
    "print(f\" Validation dataset : {valid_dataset.shape}\")"
   ]
  },
  {
   "cell_type": "code",
   "execution_count": 15,
   "metadata": {},
   "outputs": [
    {
     "data": {
      "text/plain": [
       "<seaborn.axisgrid.PairGrid at 0x10edb4610>"
      ]
     },
     "execution_count": 15,
     "metadata": {},
     "output_type": "execute_result"
    },
    {
     "data": {
      "image/png": "[encoded data removed]",
      "text/plain": [
       "<Figure size 720x720 with 20 Axes>"
      ]
     },
     "metadata": {
      "needs_background": "light"
     },
     "output_type": "display_data"
    }
   ],
   "source": [
    "# Plot the relationship between each two variables to spot anything incorrect.\n",
    "train_stats = train_dataset.describe()\n",
    "train_stats.pop(\"target\")\n",
    "sns.pairplot(train_stats[train_stats.columns], diag_kind=\"kde\") # or diag_kind='reg'\n"
   ]
  },
  {
   "cell_type": "code",
   "execution_count": 16,
   "metadata": {},
   "outputs": [
    {
     "data": {
      "text/html": [
       "<div>\n",
       "<style scoped>\n",
       "    .dataframe tbody tr th:only-of-type {\n",
       "        vertical-align: middle;\n",
       "    }\n",
       "\n",
       "    .dataframe tbody tr th {\n",
       "        vertical-align: top;\n",
       "    }\n",
       "\n",
       "    .dataframe thead th {\n",
       "        text-align: right;\n",
       "    }\n",
       "</style>\n",
       "<table border=\"1\" class=\"dataframe\">\n",
       "  <thead>\n",
       "    <tr style=\"text-align: right;\">\n",
       "      <th></th>\n",
       "      <th>count</th>\n",
       "      <th>mean</th>\n",
       "      <th>std</th>\n",
       "      <th>min</th>\n",
       "      <th>25%</th>\n",
       "      <th>50%</th>\n",
       "      <th>75%</th>\n",
       "      <th>max</th>\n",
       "    </tr>\n",
       "  </thead>\n",
       "  <tbody>\n",
       "    <tr>\n",
       "      <th>sepal length (cm)</th>\n",
       "      <td>120.0</td>\n",
       "      <td>5.840000</td>\n",
       "      <td>0.818628</td>\n",
       "      <td>4.4</td>\n",
       "      <td>5.1</td>\n",
       "      <td>5.75</td>\n",
       "      <td>6.4</td>\n",
       "      <td>7.7</td>\n",
       "    </tr>\n",
       "    <tr>\n",
       "      <th>sepal width (cm)</th>\n",
       "      <td>120.0</td>\n",
       "      <td>3.065000</td>\n",
       "      <td>0.434761</td>\n",
       "      <td>2.2</td>\n",
       "      <td>2.8</td>\n",
       "      <td>3.00</td>\n",
       "      <td>3.4</td>\n",
       "      <td>4.4</td>\n",
       "    </tr>\n",
       "    <tr>\n",
       "      <th>petal length (cm)</th>\n",
       "      <td>120.0</td>\n",
       "      <td>3.751667</td>\n",
       "      <td>1.788384</td>\n",
       "      <td>1.0</td>\n",
       "      <td>1.6</td>\n",
       "      <td>4.35</td>\n",
       "      <td>5.1</td>\n",
       "      <td>6.9</td>\n",
       "    </tr>\n",
       "    <tr>\n",
       "      <th>petal width (cm)</th>\n",
       "      <td>120.0</td>\n",
       "      <td>1.195833</td>\n",
       "      <td>0.763714</td>\n",
       "      <td>0.1</td>\n",
       "      <td>0.3</td>\n",
       "      <td>1.30</td>\n",
       "      <td>1.8</td>\n",
       "      <td>2.5</td>\n",
       "    </tr>\n",
       "  </tbody>\n",
       "</table>\n",
       "</div>"
      ],
      "text/plain": [
       "                   count      mean       std  min  25%   50%  75%  max\n",
       "sepal length (cm)  120.0  5.840000  0.818628  4.4  5.1  5.75  6.4  7.7\n",
       "sepal width (cm)   120.0  3.065000  0.434761  2.2  2.8  3.00  3.4  4.4\n",
       "petal length (cm)  120.0  3.751667  1.788384  1.0  1.6  4.35  5.1  6.9\n",
       "petal width (cm)   120.0  1.195833  0.763714  0.1  0.3  1.30  1.8  2.5"
      ]
     },
     "execution_count": 16,
     "metadata": {},
     "output_type": "execute_result"
    }
   ],
   "source": [
    "# Statistics on the train dataset to make sure it is in a good shape. (you may display the same stat for test and validate)\n",
    "train_stats = train_dataset.describe()\n",
    "train_stats.pop(\"target\")\n",
    "train_stats = train_stats.transpose()\n",
    "train_stats"
   ]
  },
  {
   "cell_type": "code",
   "execution_count": 17,
   "metadata": {},
   "outputs": [],
   "source": [
    "train_labels1 = train_dataset.pop('target')\n",
    "test_labels1 = test_dataset.pop('target')\n",
    "valid_labels1 = valid_dataset.pop('target')"
   ]
  },
  {
   "cell_type": "code",
   "execution_count": 18,
   "metadata": {},
   "outputs": [
    {
     "data": {
      "text/html": [
       "<div>\n",
       "<style scoped>\n",
       "    .dataframe tbody tr th:only-of-type {\n",
       "        vertical-align: middle;\n",
       "    }\n",
       "\n",
       "    .dataframe tbody tr th {\n",
       "        vertical-align: top;\n",
       "    }\n",
       "\n",
       "    .dataframe thead th {\n",
       "        text-align: right;\n",
       "    }\n",
       "</style>\n",
       "<table border=\"1\" class=\"dataframe\">\n",
       "  <thead>\n",
       "    <tr style=\"text-align: right;\">\n",
       "      <th></th>\n",
       "      <th>Label_0.0</th>\n",
       "      <th>Label_1.0</th>\n",
       "      <th>Label_2.0</th>\n",
       "    </tr>\n",
       "  </thead>\n",
       "  <tbody>\n",
       "    <tr>\n",
       "      <th>137</th>\n",
       "      <td>0</td>\n",
       "      <td>0</td>\n",
       "      <td>1</td>\n",
       "    </tr>\n",
       "    <tr>\n",
       "      <th>105</th>\n",
       "      <td>0</td>\n",
       "      <td>0</td>\n",
       "      <td>1</td>\n",
       "    </tr>\n",
       "    <tr>\n",
       "      <th>138</th>\n",
       "      <td>0</td>\n",
       "      <td>0</td>\n",
       "      <td>1</td>\n",
       "    </tr>\n",
       "    <tr>\n",
       "      <th>19</th>\n",
       "      <td>1</td>\n",
       "      <td>0</td>\n",
       "      <td>0</td>\n",
       "    </tr>\n",
       "    <tr>\n",
       "      <th>119</th>\n",
       "      <td>0</td>\n",
       "      <td>0</td>\n",
       "      <td>1</td>\n",
       "    </tr>\n",
       "    <tr>\n",
       "      <th>...</th>\n",
       "      <td>...</td>\n",
       "      <td>...</td>\n",
       "      <td>...</td>\n",
       "    </tr>\n",
       "    <tr>\n",
       "      <th>29</th>\n",
       "      <td>1</td>\n",
       "      <td>0</td>\n",
       "      <td>0</td>\n",
       "    </tr>\n",
       "    <tr>\n",
       "      <th>38</th>\n",
       "      <td>1</td>\n",
       "      <td>0</td>\n",
       "      <td>0</td>\n",
       "    </tr>\n",
       "    <tr>\n",
       "      <th>77</th>\n",
       "      <td>0</td>\n",
       "      <td>1</td>\n",
       "      <td>0</td>\n",
       "    </tr>\n",
       "    <tr>\n",
       "      <th>75</th>\n",
       "      <td>0</td>\n",
       "      <td>1</td>\n",
       "      <td>0</td>\n",
       "    </tr>\n",
       "    <tr>\n",
       "      <th>142</th>\n",
       "      <td>0</td>\n",
       "      <td>0</td>\n",
       "      <td>1</td>\n",
       "    </tr>\n",
       "  </tbody>\n",
       "</table>\n",
       "<p>120 rows × 3 columns</p>\n",
       "</div>"
      ],
      "text/plain": [
       "     Label_0.0  Label_1.0  Label_2.0\n",
       "137          0          0          1\n",
       "105          0          0          1\n",
       "138          0          0          1\n",
       "19           1          0          0\n",
       "119          0          0          1\n",
       "..         ...        ...        ...\n",
       "29           1          0          0\n",
       "38           1          0          0\n",
       "77           0          1          0\n",
       "75           0          1          0\n",
       "142          0          0          1\n",
       "\n",
       "[120 rows x 3 columns]"
      ]
     },
     "execution_count": 18,
     "metadata": {},
     "output_type": "execute_result"
    }
   ],
   "source": [
    "# Encode the labeles\n",
    "train_labels = pd.get_dummies(train_labels1, prefix='Label')\n",
    "valid_labels = pd.get_dummies(valid_labels1, prefix='Label')\n",
    "test_labels = pd.get_dummies(test_labels1, prefix='Label')\n",
    "\n",
    "train_labels"
   ]
  },
  {
   "cell_type": "markdown",
   "metadata": {},
   "source": [
    "# Data Normalization/Scaling\n",
    "## Subtract the mean of the training data and divide by the standard deviation of the training data."
   ]
  },
  {
   "cell_type": "code",
   "execution_count": 19,
   "metadata": {},
   "outputs": [],
   "source": [
    "# define a function to normalize the data set.\n",
    "def norm(x):\n",
    "    return (x - train_stats['mean']) / train_stats['std']\n",
    "normed_train_data = norm(train_dataset)\n",
    "normed_test_data = norm(test_dataset)\n",
    "normed_valid_dataset = norm(valid_dataset)\n"
   ]
  },
  {
   "cell_type": "code",
   "execution_count": 20,
   "metadata": {},
   "outputs": [
    {
     "data": {
      "text/html": [
       "<div>\n",
       "<style scoped>\n",
       "    .dataframe tbody tr th:only-of-type {\n",
       "        vertical-align: middle;\n",
       "    }\n",
       "\n",
       "    .dataframe tbody tr th {\n",
       "        vertical-align: top;\n",
       "    }\n",
       "\n",
       "    .dataframe thead th {\n",
       "        text-align: right;\n",
       "    }\n",
       "</style>\n",
       "<table border=\"1\" class=\"dataframe\">\n",
       "  <thead>\n",
       "    <tr style=\"text-align: right;\">\n",
       "      <th></th>\n",
       "      <th>sepal length (cm)</th>\n",
       "      <th>sepal width (cm)</th>\n",
       "      <th>petal length (cm)</th>\n",
       "      <th>petal width (cm)</th>\n",
       "    </tr>\n",
       "  </thead>\n",
       "  <tbody>\n",
       "    <tr>\n",
       "      <th>137</th>\n",
       "      <td>0.684072</td>\n",
       "      <td>0.080504</td>\n",
       "      <td>0.977605</td>\n",
       "      <td>0.791090</td>\n",
       "    </tr>\n",
       "    <tr>\n",
       "      <th>105</th>\n",
       "      <td>2.149940</td>\n",
       "      <td>-0.149508</td>\n",
       "      <td>1.592686</td>\n",
       "      <td>1.183907</td>\n",
       "    </tr>\n",
       "    <tr>\n",
       "      <th>138</th>\n",
       "      <td>0.195449</td>\n",
       "      <td>-0.149508</td>\n",
       "      <td>0.586190</td>\n",
       "      <td>0.791090</td>\n",
       "    </tr>\n",
       "    <tr>\n",
       "      <th>19</th>\n",
       "      <td>-0.903952</td>\n",
       "      <td>1.690585</td>\n",
       "      <td>-1.259051</td>\n",
       "      <td>-1.172995</td>\n",
       "    </tr>\n",
       "    <tr>\n",
       "      <th>119</th>\n",
       "      <td>0.195449</td>\n",
       "      <td>-1.989601</td>\n",
       "      <td>0.698023</td>\n",
       "      <td>0.398273</td>\n",
       "    </tr>\n",
       "    <tr>\n",
       "      <th>136</th>\n",
       "      <td>0.561916</td>\n",
       "      <td>0.770539</td>\n",
       "      <td>1.033522</td>\n",
       "      <td>1.576724</td>\n",
       "    </tr>\n",
       "    <tr>\n",
       "      <th>36</th>\n",
       "      <td>-0.415329</td>\n",
       "      <td>1.000551</td>\n",
       "      <td>-1.370884</td>\n",
       "      <td>-1.303934</td>\n",
       "    </tr>\n",
       "    <tr>\n",
       "      <th>45</th>\n",
       "      <td>-1.270419</td>\n",
       "      <td>-0.149508</td>\n",
       "      <td>-1.314968</td>\n",
       "      <td>-1.172995</td>\n",
       "    </tr>\n",
       "    <tr>\n",
       "      <th>88</th>\n",
       "      <td>-0.293174</td>\n",
       "      <td>-0.149508</td>\n",
       "      <td>0.194775</td>\n",
       "      <td>0.136395</td>\n",
       "    </tr>\n",
       "    <tr>\n",
       "      <th>144</th>\n",
       "      <td>1.050539</td>\n",
       "      <td>0.540527</td>\n",
       "      <td>1.089438</td>\n",
       "      <td>1.707663</td>\n",
       "    </tr>\n",
       "  </tbody>\n",
       "</table>\n",
       "</div>"
      ],
      "text/plain": [
       "     sepal length (cm)  sepal width (cm)  petal length (cm)  petal width (cm)\n",
       "137           0.684072          0.080504           0.977605          0.791090\n",
       "105           2.149940         -0.149508           1.592686          1.183907\n",
       "138           0.195449         -0.149508           0.586190          0.791090\n",
       "19           -0.903952          1.690585          -1.259051         -1.172995\n",
       "119           0.195449         -1.989601           0.698023          0.398273\n",
       "136           0.561916          0.770539           1.033522          1.576724\n",
       "36           -0.415329          1.000551          -1.370884         -1.303934\n",
       "45           -1.270419         -0.149508          -1.314968         -1.172995\n",
       "88           -0.293174         -0.149508           0.194775          0.136395\n",
       "144           1.050539          0.540527           1.089438          1.707663"
      ]
     },
     "execution_count": 20,
     "metadata": {},
     "output_type": "execute_result"
    }
   ],
   "source": [
    "# show a sample of the data after normalized\n",
    "normed_train_data.head(10)"
   ]
  },
  {
   "cell_type": "markdown",
   "metadata": {},
   "source": [
    "# Build a Neural Network Model "
   ]
  },
  {
   "cell_type": "markdown",
   "metadata": {},
   "source": [
    "# Training the model we built above."
   ]
  },
  {
   "cell_type": "code",
   "execution_count": 21,
   "metadata": {},
   "outputs": [
    {
     "name": "stdout",
     "output_type": "stream",
     "text": [
      "Here is a summary of this model: \n",
      "Model: \"sequential\"\n",
      "_________________________________________________________________\n",
      "Layer (type)                 Output Shape              Param #   \n",
      "=================================================================\n",
      "dense (Dense)                (None, 16)                80        \n",
      "_________________________________________________________________\n",
      "dense_1 (Dense)              (None, 3)                 51        \n",
      "=================================================================\n",
      "Total params: 131\n",
      "Trainable params: 131\n",
      "Non-trainable params: 0\n",
      "_________________________________________________________________\n",
      "Epoch 1/100\n",
      "7/7 [==============================] - 0s 34ms/step - loss: 1.1114 - accuracy: 0.3661 - val_loss: 1.0118 - val_accuracy: 0.5333\n",
      "Epoch 2/100\n",
      "7/7 [==============================] - 0s 5ms/step - loss: 1.1385 - accuracy: 0.3173 - val_loss: 1.0034 - val_accuracy: 0.5333\n",
      "Epoch 3/100\n",
      "7/7 [==============================] - 0s 5ms/step - loss: 1.0946 - accuracy: 0.4231 - val_loss: 0.9953 - val_accuracy: 0.6000\n",
      "Epoch 4/100\n",
      "7/7 [==============================] - 0s 5ms/step - loss: 1.1245 - accuracy: 0.3365 - val_loss: 0.9872 - val_accuracy: 0.6000\n",
      "Epoch 5/100\n",
      "7/7 [==============================] - 0s 5ms/step - loss: 1.0545 - accuracy: 0.4712 - val_loss: 0.9793 - val_accuracy: 0.6000\n",
      "Epoch 6/100\n",
      "7/7 [==============================] - 0s 5ms/step - loss: 1.0645 - accuracy: 0.4135 - val_loss: 0.9715 - val_accuracy: 0.6000\n",
      "Epoch 7/100\n",
      "7/7 [==============================] - 0s 4ms/step - loss: 1.0817 - accuracy: 0.4038 - val_loss: 0.9637 - val_accuracy: 0.6000\n",
      "Epoch 8/100\n",
      "7/7 [==============================] - 0s 4ms/step - loss: 1.0717 - accuracy: 0.4423 - val_loss: 0.9562 - val_accuracy: 0.6000\n",
      "Epoch 9/100\n",
      "7/7 [==============================] - 0s 4ms/step - loss: 1.0575 - accuracy: 0.4464 - val_loss: 0.9486 - val_accuracy: 0.6000\n",
      "Epoch 10/100\n",
      "7/7 [==============================] - 0s 4ms/step - loss: 1.0434 - accuracy: 0.4615 - val_loss: 0.9411 - val_accuracy: 0.6000\n",
      "Epoch 11/100\n",
      "7/7 [==============================] - 0s 4ms/step - loss: 1.0416 - accuracy: 0.4808 - val_loss: 0.9337 - val_accuracy: 0.6000\n",
      "Epoch 12/100\n",
      "7/7 [==============================] - 0s 4ms/step - loss: 1.0263 - accuracy: 0.4808 - val_loss: 0.9267 - val_accuracy: 0.6000\n",
      "Epoch 13/100\n",
      "7/7 [==============================] - 0s 4ms/step - loss: 1.0009 - accuracy: 0.5192 - val_loss: 0.9196 - val_accuracy: 0.6000\n",
      "Epoch 14/100\n",
      "7/7 [==============================] - 0s 4ms/step - loss: 1.0418 - accuracy: 0.4231 - val_loss: 0.9125 - val_accuracy: 0.6000\n",
      "Epoch 15/100\n",
      "7/7 [==============================] - 0s 4ms/step - loss: 0.9838 - accuracy: 0.5481 - val_loss: 0.9055 - val_accuracy: 0.6000\n",
      "Epoch 16/100\n",
      "7/7 [==============================] - 0s 4ms/step - loss: 1.0114 - accuracy: 0.4808 - val_loss: 0.8986 - val_accuracy: 0.6000\n",
      "Epoch 17/100\n",
      "7/7 [==============================] - 0s 3ms/step - loss: 0.9967 - accuracy: 0.5179 - val_loss: 0.8917 - val_accuracy: 0.6000\n",
      "Epoch 18/100\n",
      "7/7 [==============================] - 0s 3ms/step - loss: 0.9819 - accuracy: 0.5385 - val_loss: 0.8853 - val_accuracy: 0.6000\n",
      "Epoch 19/100\n",
      "7/7 [==============================] - 0s 3ms/step - loss: 0.9616 - accuracy: 0.5769 - val_loss: 0.8786 - val_accuracy: 0.6000\n",
      "Epoch 20/100\n",
      "7/7 [==============================] - 0s 3ms/step - loss: 0.9815 - accuracy: 0.5096 - val_loss: 0.8721 - val_accuracy: 0.6000\n",
      "Epoch 21/100\n",
      "7/7 [==============================] - 0s 3ms/step - loss: 0.9607 - accuracy: 0.5385 - val_loss: 0.8656 - val_accuracy: 0.6000\n",
      "Epoch 22/100\n",
      "7/7 [==============================] - 0s 3ms/step - loss: 0.9465 - accuracy: 0.5481 - val_loss: 0.8594 - val_accuracy: 0.6000\n",
      "Epoch 23/100\n",
      "7/7 [==============================] - 0s 3ms/step - loss: 0.9709 - accuracy: 0.5577 - val_loss: 0.8531 - val_accuracy: 0.6000\n",
      "Epoch 24/100\n",
      "7/7 [==============================] - 0s 3ms/step - loss: 0.9257 - accuracy: 0.5769 - val_loss: 0.8468 - val_accuracy: 0.6000\n",
      "Epoch 25/100\n",
      "7/7 [==============================] - 0s 4ms/step - loss: 0.9399 - accuracy: 0.5536 - val_loss: 0.8405 - val_accuracy: 0.6000\n",
      "Epoch 26/100\n",
      "7/7 [==============================] - 0s 4ms/step - loss: 0.8908 - accuracy: 0.6058 - val_loss: 0.8346 - val_accuracy: 0.6000\n",
      "Epoch 27/100\n",
      "7/7 [==============================] - 0s 4ms/step - loss: 0.9579 - accuracy: 0.5288 - val_loss: 0.8288 - val_accuracy: 0.6000\n",
      "Epoch 28/100\n",
      "7/7 [==============================] - 0s 4ms/step - loss: 0.9310 - accuracy: 0.5481 - val_loss: 0.8231 - val_accuracy: 0.6000\n",
      "Epoch 29/100\n",
      "7/7 [==============================] - 0s 4ms/step - loss: 0.8745 - accuracy: 0.6250 - val_loss: 0.8173 - val_accuracy: 0.6000\n",
      "Epoch 30/100\n",
      "7/7 [==============================] - 0s 4ms/step - loss: 0.9395 - accuracy: 0.5288 - val_loss: 0.8115 - val_accuracy: 0.6000\n",
      "Epoch 31/100\n",
      "7/7 [==============================] - 0s 4ms/step - loss: 0.8503 - accuracy: 0.6250 - val_loss: 0.8059 - val_accuracy: 0.6000\n",
      "Epoch 32/100\n",
      "7/7 [==============================] - 0s 4ms/step - loss: 0.9060 - accuracy: 0.5673 - val_loss: 0.8004 - val_accuracy: 0.6000\n",
      "Epoch 33/100\n",
      "7/7 [==============================] - 0s 4ms/step - loss: 0.8901 - accuracy: 0.5893 - val_loss: 0.7951 - val_accuracy: 0.6000\n",
      "Epoch 34/100\n",
      "7/7 [==============================] - 0s 4ms/step - loss: 0.8889 - accuracy: 0.5577 - val_loss: 0.7895 - val_accuracy: 0.6000\n",
      "Epoch 35/100\n",
      "7/7 [==============================] - 0s 4ms/step - loss: 0.8496 - accuracy: 0.6154 - val_loss: 0.7841 - val_accuracy: 0.6000\n",
      "Epoch 36/100\n",
      "7/7 [==============================] - 0s 4ms/step - loss: 0.8670 - accuracy: 0.6250 - val_loss: 0.7787 - val_accuracy: 0.6000\n",
      "Epoch 37/100\n",
      "7/7 [==============================] - 0s 4ms/step - loss: 0.8498 - accuracy: 0.6250 - val_loss: 0.7735 - val_accuracy: 0.6000\n",
      "Epoch 38/100\n",
      "7/7 [==============================] - 0s 4ms/step - loss: 0.8482 - accuracy: 0.6346 - val_loss: 0.7683 - val_accuracy: 0.6000\n",
      "Epoch 39/100\n",
      "7/7 [==============================] - 0s 4ms/step - loss: 0.8675 - accuracy: 0.5481 - val_loss: 0.7633 - val_accuracy: 0.6000\n",
      "Epoch 40/100\n",
      "7/7 [==============================] - 0s 4ms/step - loss: 0.8334 - accuracy: 0.6442 - val_loss: 0.7581 - val_accuracy: 0.6667\n",
      "Epoch 41/100\n",
      "7/7 [==============================] - 0s 4ms/step - loss: 0.8341 - accuracy: 0.6429 - val_loss: 0.7531 - val_accuracy: 0.6667\n",
      "Epoch 42/100\n",
      "7/7 [==============================] - 0s 3ms/step - loss: 0.8421 - accuracy: 0.6250 - val_loss: 0.7482 - val_accuracy: 0.6667\n",
      "Epoch 43/100\n",
      "7/7 [==============================] - 0s 4ms/step - loss: 0.8207 - accuracy: 0.6538 - val_loss: 0.7433 - val_accuracy: 0.6667\n",
      "Epoch 44/100\n",
      "7/7 [==============================] - 0s 5ms/step - loss: 0.7783 - accuracy: 0.6827 - val_loss: 0.7387 - val_accuracy: 0.6667\n",
      "Epoch 45/100\n",
      "7/7 [==============================] - 0s 3ms/step - loss: 0.8341 - accuracy: 0.6154 - val_loss: 0.7341 - val_accuracy: 0.7333\n",
      "Epoch 46/100\n",
      "7/7 [==============================] - 0s 4ms/step - loss: 0.8331 - accuracy: 0.6250 - val_loss: 0.7295 - val_accuracy: 0.6667\n",
      "Epoch 47/100\n",
      "7/7 [==============================] - 0s 4ms/step - loss: 0.7843 - accuracy: 0.6923 - val_loss: 0.7250 - val_accuracy: 0.7333\n",
      "Epoch 48/100\n",
      "7/7 [==============================] - 0s 4ms/step - loss: 0.8073 - accuracy: 0.6538 - val_loss: 0.7205 - val_accuracy: 0.7333\n",
      "Epoch 49/100\n",
      "7/7 [==============================] - 0s 3ms/step - loss: 0.7907 - accuracy: 0.6696 - val_loss: 0.7160 - val_accuracy: 0.7333\n",
      "Epoch 50/100\n",
      "7/7 [==============================] - 0s 4ms/step - loss: 0.7932 - accuracy: 0.7019 - val_loss: 0.7117 - val_accuracy: 0.7333\n",
      "Epoch 51/100\n",
      "7/7 [==============================] - 0s 4ms/step - loss: 0.7809 - accuracy: 0.6827 - val_loss: 0.7075 - val_accuracy: 0.7333\n",
      "Epoch 52/100\n",
      "7/7 [==============================] - 0s 3ms/step - loss: 0.7817 - accuracy: 0.6635 - val_loss: 0.7033 - val_accuracy: 0.7333\n",
      "Epoch 53/100\n",
      "7/7 [==============================] - 0s 3ms/step - loss: 0.7649 - accuracy: 0.6923 - val_loss: 0.6991 - val_accuracy: 0.7333\n",
      "Epoch 54/100\n",
      "7/7 [==============================] - 0s 3ms/step - loss: 0.7637 - accuracy: 0.6923 - val_loss: 0.6949 - val_accuracy: 0.7333\n",
      "Epoch 55/100\n",
      "7/7 [==============================] - 0s 3ms/step - loss: 0.7671 - accuracy: 0.6635 - val_loss: 0.6908 - val_accuracy: 0.7333\n",
      "Epoch 56/100\n",
      "7/7 [==============================] - 0s 4ms/step - loss: 0.7690 - accuracy: 0.6827 - val_loss: 0.6868 - val_accuracy: 0.7333\n",
      "Epoch 57/100\n",
      "7/7 [==============================] - 0s 3ms/step - loss: 0.7647 - accuracy: 0.6786 - val_loss: 0.6829 - val_accuracy: 0.8000\n",
      "Epoch 58/100\n",
      "7/7 [==============================] - 0s 4ms/step - loss: 0.7481 - accuracy: 0.7019 - val_loss: 0.6791 - val_accuracy: 0.8000\n",
      "Epoch 59/100\n",
      "7/7 [==============================] - 0s 4ms/step - loss: 0.7466 - accuracy: 0.7308 - val_loss: 0.6752 - val_accuracy: 0.8000\n",
      "Epoch 60/100\n",
      "7/7 [==============================] - 0s 3ms/step - loss: 0.7362 - accuracy: 0.7115 - val_loss: 0.6714 - val_accuracy: 0.8000\n",
      "Epoch 61/100\n",
      "7/7 [==============================] - 0s 4ms/step - loss: 0.7100 - accuracy: 0.7692 - val_loss: 0.6677 - val_accuracy: 0.8667\n",
      "Epoch 62/100\n",
      "7/7 [==============================] - 0s 4ms/step - loss: 0.7648 - accuracy: 0.6635 - val_loss: 0.6641 - val_accuracy: 0.8667\n",
      "Epoch 63/100\n",
      "7/7 [==============================] - 0s 3ms/step - loss: 0.7345 - accuracy: 0.7692 - val_loss: 0.6605 - val_accuracy: 0.8667\n",
      "Epoch 64/100\n",
      "7/7 [==============================] - 0s 4ms/step - loss: 0.7124 - accuracy: 0.7308 - val_loss: 0.6570 - val_accuracy: 0.8667\n",
      "Epoch 65/100\n",
      "7/7 [==============================] - 0s 3ms/step - loss: 0.7310 - accuracy: 0.7232 - val_loss: 0.6535 - val_accuracy: 0.8667\n",
      "Epoch 66/100\n",
      "7/7 [==============================] - 0s 3ms/step - loss: 0.7043 - accuracy: 0.7596 - val_loss: 0.6500 - val_accuracy: 0.8667\n",
      "Epoch 67/100\n",
      "7/7 [==============================] - 0s 3ms/step - loss: 0.7273 - accuracy: 0.7115 - val_loss: 0.6466 - val_accuracy: 0.8667\n",
      "Epoch 68/100\n",
      "7/7 [==============================] - 0s 3ms/step - loss: 0.6991 - accuracy: 0.7404 - val_loss: 0.6431 - val_accuracy: 0.8667\n",
      "Epoch 69/100\n",
      "7/7 [==============================] - 0s 3ms/step - loss: 0.6998 - accuracy: 0.7212 - val_loss: 0.6396 - val_accuracy: 0.8667\n",
      "Epoch 70/100\n",
      "7/7 [==============================] - 0s 3ms/step - loss: 0.7350 - accuracy: 0.7212 - val_loss: 0.6364 - val_accuracy: 0.8667\n",
      "Epoch 71/100\n",
      "7/7 [==============================] - 0s 3ms/step - loss: 0.6589 - accuracy: 0.7788 - val_loss: 0.6331 - val_accuracy: 0.8667\n",
      "Epoch 72/100\n",
      "7/7 [==============================] - 0s 3ms/step - loss: 0.6956 - accuracy: 0.7212 - val_loss: 0.6300 - val_accuracy: 0.8667\n",
      "Epoch 73/100\n",
      "7/7 [==============================] - 0s 4ms/step - loss: 0.6887 - accuracy: 0.7411 - val_loss: 0.6268 - val_accuracy: 0.8667\n",
      "Epoch 74/100\n",
      "7/7 [==============================] - 0s 4ms/step - loss: 0.6865 - accuracy: 0.7404 - val_loss: 0.6238 - val_accuracy: 0.9333\n",
      "Epoch 75/100\n",
      "7/7 [==============================] - 0s 3ms/step - loss: 0.6727 - accuracy: 0.7212 - val_loss: 0.6207 - val_accuracy: 0.9333\n",
      "Epoch 76/100\n",
      "7/7 [==============================] - 0s 3ms/step - loss: 0.7030 - accuracy: 0.7500 - val_loss: 0.6177 - val_accuracy: 0.9333\n",
      "Epoch 77/100\n",
      "7/7 [==============================] - 0s 4ms/step - loss: 0.6555 - accuracy: 0.7308 - val_loss: 0.6148 - val_accuracy: 0.9333\n",
      "Epoch 78/100\n",
      "7/7 [==============================] - 0s 4ms/step - loss: 0.6737 - accuracy: 0.7885 - val_loss: 0.6120 - val_accuracy: 0.9333\n",
      "Epoch 79/100\n",
      "7/7 [==============================] - 0s 4ms/step - loss: 0.6594 - accuracy: 0.7308 - val_loss: 0.6091 - val_accuracy: 0.9333\n",
      "Epoch 80/100\n",
      "7/7 [==============================] - 0s 4ms/step - loss: 0.6710 - accuracy: 0.7308 - val_loss: 0.6063 - val_accuracy: 0.9333\n",
      "Epoch 81/100\n",
      "7/7 [==============================] - 0s 4ms/step - loss: 0.6750 - accuracy: 0.7232 - val_loss: 0.6036 - val_accuracy: 0.9333\n",
      "Epoch 82/100\n",
      "7/7 [==============================] - 0s 3ms/step - loss: 0.6355 - accuracy: 0.7788 - val_loss: 0.6008 - val_accuracy: 0.9333\n",
      "Epoch 83/100\n",
      "7/7 [==============================] - 0s 3ms/step - loss: 0.6602 - accuracy: 0.7500 - val_loss: 0.5981 - val_accuracy: 0.9333\n",
      "Epoch 84/100\n",
      "7/7 [==============================] - 0s 3ms/step - loss: 0.6460 - accuracy: 0.7404 - val_loss: 0.5955 - val_accuracy: 0.9333\n",
      "Epoch 85/100\n",
      "7/7 [==============================] - 0s 3ms/step - loss: 0.6730 - accuracy: 0.7308 - val_loss: 0.5929 - val_accuracy: 0.9333\n",
      "Epoch 86/100\n",
      "7/7 [==============================] - 0s 3ms/step - loss: 0.6466 - accuracy: 0.7404 - val_loss: 0.5903 - val_accuracy: 0.9333\n",
      "Epoch 87/100\n",
      "7/7 [==============================] - 0s 3ms/step - loss: 0.6273 - accuracy: 0.7692 - val_loss: 0.5878 - val_accuracy: 0.9333\n",
      "Epoch 88/100\n",
      "7/7 [==============================] - 0s 4ms/step - loss: 0.6274 - accuracy: 0.7596 - val_loss: 0.5852 - val_accuracy: 0.9333\n",
      "Epoch 89/100\n",
      "7/7 [==============================] - 0s 5ms/step - loss: 0.6397 - accuracy: 0.7500 - val_loss: 0.5827 - val_accuracy: 0.9333\n",
      "Epoch 90/100\n",
      "7/7 [==============================] - 0s 3ms/step - loss: 0.6217 - accuracy: 0.7692 - val_loss: 0.5804 - val_accuracy: 0.9333\n",
      "Epoch 91/100\n",
      "7/7 [==============================] - 0s 4ms/step - loss: 0.6197 - accuracy: 0.7500 - val_loss: 0.5780 - val_accuracy: 0.9333\n",
      "Epoch 92/100\n",
      "7/7 [==============================] - 0s 4ms/step - loss: 0.6412 - accuracy: 0.7692 - val_loss: 0.5756 - val_accuracy: 0.8667\n",
      "Epoch 93/100\n",
      "7/7 [==============================] - 0s 3ms/step - loss: 0.6256 - accuracy: 0.7692 - val_loss: 0.5733 - val_accuracy: 0.8667\n",
      "Epoch 94/100\n",
      "7/7 [==============================] - 0s 4ms/step - loss: 0.6034 - accuracy: 0.7788 - val_loss: 0.5710 - val_accuracy: 0.8667\n",
      "Epoch 95/100\n",
      "7/7 [==============================] - 0s 4ms/step - loss: 0.6387 - accuracy: 0.7404 - val_loss: 0.5688 - val_accuracy: 0.8667\n",
      "Epoch 96/100\n",
      "7/7 [==============================] - 0s 4ms/step - loss: 0.6028 - accuracy: 0.7788 - val_loss: 0.5666 - val_accuracy: 0.8667\n",
      "Epoch 97/100\n",
      "7/7 [==============================] - 0s 4ms/step - loss: 0.6030 - accuracy: 0.7589 - val_loss: 0.5643 - val_accuracy: 0.8667\n",
      "Epoch 98/100\n",
      "7/7 [==============================] - 0s 3ms/step - loss: 0.6248 - accuracy: 0.7596 - val_loss: 0.5622 - val_accuracy: 0.8667\n",
      "Epoch 99/100\n",
      "7/7 [==============================] - 0s 4ms/step - loss: 0.6235 - accuracy: 0.7885 - val_loss: 0.5601 - val_accuracy: 0.8667\n",
      "Epoch 100/100\n",
      "7/7 [==============================] - 0s 4ms/step - loss: 0.5893 - accuracy: 0.8269 - val_loss: 0.5580 - val_accuracy: 0.8667\n",
      "CPU times: user 3.87 s, sys: 382 ms, total: 4.25 s\n",
      "Wall time: 3.81 s\n"
     ]
    }
   ],
   "source": [
    "%%time\n",
    "\n",
    "# We decalred a function for creating a model.\n",
    "def build_model1_two_hidden_layers():\n",
    "    model = Sequential()\n",
    "    model.add(Dense(16, input_shape = (normed_train_data.shape[1],)))    # Input layer => input_shape must be explicitly designated       \n",
    "    model.add(Dense(3, activation='softmax'))                          # Output layer => output dimension = 1 since it is a regression problem\n",
    "     # Activation: sigmoid, softmax, tanh, relu, LeakyReLU. \n",
    "    #Optimizer: SGD, Adam, RMSProp, etc. # https://www.tensorflow.org/api_docs/python/tf/keras/optimizers\n",
    "    learning_rate = 0.0001\n",
    "    optimizer = optimizers.Adam(learning_rate)\n",
    "    model.compile(loss='categorical_crossentropy',#from_logits=True),\n",
    "                optimizer=optimizer,\n",
    "                metrics=['accuracy']) # for regression problems, mean squared error (MSE) is often employed\n",
    "    return model\n",
    "\n",
    "\n",
    "EPOCHS = 100\n",
    "batch_size = 16 # 6 iteration\n",
    "\n",
    "model = build_model1_two_hidden_layers()\n",
    "print('Here is a summary of this model: ')\n",
    "model.summary()\n",
    "\n",
    "\n",
    "with tf.device('/CPU:0'): # it can be with '/CPU:0'\n",
    "# with tf.device('/GPU:0'): # comment the previous line and uncomment this line to train with a GPU, if available.\n",
    "    history = model.fit(\n",
    "        normed_train_data, \n",
    "        train_labels,\n",
    "        batch_size = batch_size,\n",
    "        epochs=EPOCHS, \n",
    "        verbose=1,\n",
    "        shuffle=True,\n",
    "        steps_per_epoch = int(normed_train_data.shape[0] / batch_size) ,\n",
    "        validation_data = (normed_valid_dataset, valid_labels),   \n",
    "    )\n",
    "\n"
   ]
  },
  {
   "cell_type": "code",
   "execution_count": 22,
   "metadata": {},
   "outputs": [
    {
     "name": "stdout",
     "output_type": "stream",
     "text": [
      "Summary of the results after each epoch: \n"
     ]
    },
    {
     "data": {
      "text/html": [
       "<div>\n",
       "<style scoped>\n",
       "    .dataframe tbody tr th:only-of-type {\n",
       "        vertical-align: middle;\n",
       "    }\n",
       "\n",
       "    .dataframe tbody tr th {\n",
       "        vertical-align: top;\n",
       "    }\n",
       "\n",
       "    .dataframe thead th {\n",
       "        text-align: right;\n",
       "    }\n",
       "</style>\n",
       "<table border=\"1\" class=\"dataframe\">\n",
       "  <thead>\n",
       "    <tr style=\"text-align: right;\">\n",
       "      <th></th>\n",
       "      <th>loss</th>\n",
       "      <th>accuracy</th>\n",
       "      <th>val_loss</th>\n",
       "      <th>val_accuracy</th>\n",
       "      <th>epoch</th>\n",
       "    </tr>\n",
       "  </thead>\n",
       "  <tbody>\n",
       "    <tr>\n",
       "      <th>95</th>\n",
       "      <td>0.602803</td>\n",
       "      <td>0.778846</td>\n",
       "      <td>0.566566</td>\n",
       "      <td>0.866667</td>\n",
       "      <td>95</td>\n",
       "    </tr>\n",
       "    <tr>\n",
       "      <th>96</th>\n",
       "      <td>0.602994</td>\n",
       "      <td>0.758929</td>\n",
       "      <td>0.564319</td>\n",
       "      <td>0.866667</td>\n",
       "      <td>96</td>\n",
       "    </tr>\n",
       "    <tr>\n",
       "      <th>97</th>\n",
       "      <td>0.624833</td>\n",
       "      <td>0.759615</td>\n",
       "      <td>0.562179</td>\n",
       "      <td>0.866667</td>\n",
       "      <td>97</td>\n",
       "    </tr>\n",
       "    <tr>\n",
       "      <th>98</th>\n",
       "      <td>0.623459</td>\n",
       "      <td>0.788462</td>\n",
       "      <td>0.560088</td>\n",
       "      <td>0.866667</td>\n",
       "      <td>98</td>\n",
       "    </tr>\n",
       "    <tr>\n",
       "      <th>99</th>\n",
       "      <td>0.589335</td>\n",
       "      <td>0.826923</td>\n",
       "      <td>0.558002</td>\n",
       "      <td>0.866667</td>\n",
       "      <td>99</td>\n",
       "    </tr>\n",
       "  </tbody>\n",
       "</table>\n",
       "</div>"
      ],
      "text/plain": [
       "        loss  accuracy  val_loss  val_accuracy  epoch\n",
       "95  0.602803  0.778846  0.566566      0.866667     95\n",
       "96  0.602994  0.758929  0.564319      0.866667     96\n",
       "97  0.624833  0.759615  0.562179      0.866667     97\n",
       "98  0.623459  0.788462  0.560088      0.866667     98\n",
       "99  0.589335  0.826923  0.558002      0.866667     99"
      ]
     },
     "execution_count": 22,
     "metadata": {},
     "output_type": "execute_result"
    }
   ],
   "source": [
    "print('Summary of the results after each epoch: ')\n",
    "hist = pd.DataFrame(history.history)\n",
    "hist['epoch'] = history.epoch\n",
    "hist.tail()"
   ]
  },
  {
   "cell_type": "code",
   "execution_count": 23,
   "metadata": {},
   "outputs": [
    {
     "name": "stdout",
     "output_type": "stream",
     "text": [
      "predicted values: \n"
     ]
    },
    {
     "data": {
      "text/plain": [
       "array([[0.37387893, 0.3857554 , 0.24036571],\n",
       "       [0.78875726, 0.1062201 , 0.10502262],\n",
       "       [0.83056563, 0.10094298, 0.06849141],\n",
       "       [0.76499194, 0.13386214, 0.10114584],\n",
       "       [0.06731856, 0.36824858, 0.56443286],\n",
       "       [0.77827233, 0.14291924, 0.07880845],\n",
       "       [0.22918591, 0.28221253, 0.48860162],\n",
       "       [0.45031092, 0.3179064 , 0.23178262],\n",
       "       [0.18537326, 0.31741264, 0.49721408],\n",
       "       [0.74403584, 0.14756389, 0.10840034]], dtype=float32)"
      ]
     },
     "execution_count": 23,
     "metadata": {},
     "output_type": "execute_result"
    }
   ],
   "source": [
    "example_batch = normed_test_data[:10]\n",
    "example_result = model.predict(example_batch)\n",
    "print('predicted values: ')\n",
    "example_result"
   ]
  },
  {
   "cell_type": "markdown",
   "metadata": {},
   "source": [
    "# See how the training went.\n"
   ]
  },
  {
   "cell_type": "code",
   "execution_count": 24,
   "metadata": {},
   "outputs": [
    {
     "data": {
      "image/png": "[encoded data removed]",
      "text/plain": [
       "<Figure size 432x288 with 1 Axes>"
      ]
     },
     "metadata": {
      "needs_background": "light"
     },
     "output_type": "display_data"
    }
   ],
   "source": [
    "from matplotlib import pyplot as plt\n",
    "plt.plot(history.history['accuracy'])\n",
    "plt.plot(history.history['val_accuracy'])\n",
    "plt.title('model accuracy')\n",
    "plt.ylabel('accuracy')\n",
    "plt.xlabel('epoch')\n",
    "plt.legend(['Train', 'Cross-Validation'], loc='upper left')\n",
    "plt.show()"
   ]
  },
  {
   "cell_type": "code",
   "execution_count": 25,
   "metadata": {},
   "outputs": [
    {
     "data": {
      "image/png": "[encoded data removed]",
      "text/plain": [
       "<Figure size 432x288 with 1 Axes>"
      ]
     },
     "metadata": {
      "needs_background": "light"
     },
     "output_type": "display_data"
    }
   ],
   "source": [
    "plt.plot(history.history['loss'])\n",
    "plt.plot(history.history['val_loss'])\n",
    "plt.title('Model Loss')\n",
    "plt.ylabel('Loss')\n",
    "plt.xlabel('epoch')\n",
    "plt.legend(['Train', 'Cross-Validation'], loc='upper left')\n",
    "plt.show()"
   ]
  },
  {
   "cell_type": "code",
   "execution_count": 26,
   "metadata": {},
   "outputs": [
    {
     "name": "stdout",
     "output_type": "stream",
     "text": [
      "Train Split: \n",
      "4/4 [==============================] - 0s 3ms/step - loss: 0.6011 - accuracy: 0.8000\n",
      "Accuracy   :  0.80 \n"
     ]
    }
   ],
   "source": [
    "print('Train Split: ')\n",
    "loss, accuracy = model.evaluate(normed_train_data, train_labels, verbose=1)\n",
    "\n",
    "print(\"Accuracy   : {:5.2f} \".format(accuracy))\n"
   ]
  },
  {
   "cell_type": "code",
   "execution_count": 27,
   "metadata": {},
   "outputs": [
    {
     "name": "stdout",
     "output_type": "stream",
     "text": [
      "Evaluation Split: \n",
      "1/1 - 0s - loss: 0.5580 - accuracy: 0.8667\n",
      "Accuracy   :  0.87 \n"
     ]
    }
   ],
   "source": [
    "print('Evaluation Split: ')\n",
    "loss, accuracy =  model.evaluate(normed_valid_dataset, valid_labels, verbose=2)\n",
    "\n",
    "print(\"Accuracy   : {:5.2f} \".format(accuracy))"
   ]
  },
  {
   "cell_type": "code",
   "execution_count": 28,
   "metadata": {},
   "outputs": [
    {
     "name": "stdout",
     "output_type": "stream",
     "text": [
      "Test Split: \n",
      "1/1 - 0s - loss: 0.6466 - accuracy: 0.8667\n",
      "Accuracy   :  0.87\n"
     ]
    }
   ],
   "source": [
    "print('Test Split: ')\n",
    "loss, accuracy =  model.evaluate(normed_test_data, test_labels, verbose=2)\n",
    "\n",
    "print(\"Accuracy   : {:5.2f}\".format(accuracy))\n"
   ]
  },
  {
   "cell_type": "code",
   "execution_count": null,
   "metadata": {},
   "outputs": [],
   "source": []
  },
  {
   "cell_type": "code",
   "execution_count": 29,
   "metadata": {},
   "outputs": [
    {
     "data": {
      "image/png": "[encoded data removed]",
      "text/plain": [
       "<Figure size 432x288 with 2 Axes>"
      ]
     },
     "metadata": {
      "needs_background": "light"
     },
     "output_type": "display_data"
    }
   ],
   "source": [
    "# import seaborn as sns\n",
    "# import matplotlib.pyplot as plt     \n",
    "from sklearn.metrics import confusion_matrix\n",
    "\n",
    "\n",
    "ax= plt.subplot()\n",
    "predict_results = model.predict(normed_test_data)\n",
    "\n",
    "# predict_results = (predict_results.argmax())\n",
    "predict_results= predict_results.argmax(axis = 1)\n",
    "\n",
    "cm = confusion_matrix(test_labels1, predict_results)\n",
    "\n",
    "sns.heatmap(cm, annot=True, ax = ax); #annot=True to annotate cells\n",
    "\n",
    "# labels, title and ticks\n",
    "ax.set_xlabel('Predicted labels');ax.set_ylabel('True labels'); \n",
    "ax.set_title('Confusion Matrix'); \n",
    "# ax.xaxis.set_ticklabels(['Positive', 'Negative']); ax.yaxis.set_ticklabels(['Positive', 'Negative']);\n"
   ]
  },
  {
   "cell_type": "code",
   "execution_count": null,
   "metadata": {},
   "outputs": [],
   "source": []
  },
  {
   "cell_type": "code",
   "execution_count": null,
   "metadata": {},
   "outputs": [],
   "source": []
  },
  {
   "cell_type": "code",
   "execution_count": null,
   "metadata": {},
   "outputs": [],
   "source": []
  }
 ],
 "metadata": {
  "kernelspec": {
   "display_name": "Python 3",
   "language": "python",
   "name": "python3"
  },
  "language_info": {
   "codemirror_mode": {
    "name": "ipython",
    "version": 3
   },
   "file_extension": ".py",
   "mimetype": "text/x-python",
   "name": "python",
   "nbconvert_exporter": "python",
   "pygments_lexer": "ipython3",
   "version": "3.7.6"
  }
 },
 "nbformat": 4,
 "nbformat_minor": 4
}
